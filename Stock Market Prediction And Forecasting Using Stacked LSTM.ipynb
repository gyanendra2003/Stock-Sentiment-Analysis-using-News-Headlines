{
 "cells": [
  {
   "cell_type": "markdown",
   "metadata": {},
   "source": [
    "Stock Market Prediction And Forecasting Using Stacked LSTM"
   ]
  },
  {
   "cell_type": "markdown",
   "metadata": {},
   "source": [
    "Importing Library"
   ]
  },
  {
   "cell_type": "code",
   "execution_count": 52,
   "metadata": {},
   "outputs": [],
   "source": [
    "import pandas as pd\n",
    "import matplotlib.pyplot as plt\n",
    "import numpy as np\n",
    "import seaborn as sns"
   ]
  },
  {
   "cell_type": "code",
   "execution_count": 53,
   "metadata": {},
   "outputs": [
    {
     "name": "stdout",
     "output_type": "stream",
     "text": [
      "<class 'pandas.core.frame.DataFrame'>\n",
      "RangeIndex: 1258 entries, 0 to 1257\n",
      "Data columns (total 15 columns):\n",
      " #   Column       Non-Null Count  Dtype  \n",
      "---  ------       --------------  -----  \n",
      " 0   Unnamed: 0   1258 non-null   int64  \n",
      " 1   symbol       1258 non-null   object \n",
      " 2   date         1258 non-null   object \n",
      " 3   close        1258 non-null   float64\n",
      " 4   high         1258 non-null   float64\n",
      " 5   low          1258 non-null   float64\n",
      " 6   open         1258 non-null   float64\n",
      " 7   volume       1258 non-null   int64  \n",
      " 8   adjClose     1258 non-null   float64\n",
      " 9   adjHigh      1258 non-null   float64\n",
      " 10  adjLow       1258 non-null   float64\n",
      " 11  adjOpen      1258 non-null   float64\n",
      " 12  adjVolume    1258 non-null   int64  \n",
      " 13  divCash      1258 non-null   float64\n",
      " 14  splitFactor  1258 non-null   float64\n",
      "dtypes: float64(10), int64(3), object(2)\n",
      "memory usage: 147.5+ KB\n"
     ]
    }
   ],
   "source": [
    "df=pd.read_csv(r\"D:\\projects\\AAPL.csv\")\n",
    "df.info()"
   ]
  },
  {
   "cell_type": "code",
   "execution_count": 54,
   "metadata": {},
   "outputs": [],
   "source": [
    "df=df.drop(columns=[\"Unnamed: 0\",\"symbol\"])"
   ]
  },
  {
   "cell_type": "code",
   "execution_count": 55,
   "metadata": {},
   "outputs": [
    {
     "data": {
      "text/html": [
       "<div>\n",
       "<style scoped>\n",
       "    .dataframe tbody tr th:only-of-type {\n",
       "        vertical-align: middle;\n",
       "    }\n",
       "\n",
       "    .dataframe tbody tr th {\n",
       "        vertical-align: top;\n",
       "    }\n",
       "\n",
       "    .dataframe thead th {\n",
       "        text-align: right;\n",
       "    }\n",
       "</style>\n",
       "<table border=\"1\" class=\"dataframe\">\n",
       "  <thead>\n",
       "    <tr style=\"text-align: right;\">\n",
       "      <th></th>\n",
       "      <th>close</th>\n",
       "      <th>high</th>\n",
       "      <th>low</th>\n",
       "      <th>open</th>\n",
       "      <th>volume</th>\n",
       "      <th>adjClose</th>\n",
       "      <th>adjHigh</th>\n",
       "      <th>adjLow</th>\n",
       "      <th>adjOpen</th>\n",
       "      <th>adjVolume</th>\n",
       "      <th>divCash</th>\n",
       "      <th>splitFactor</th>\n",
       "    </tr>\n",
       "  </thead>\n",
       "  <tbody>\n",
       "    <tr>\n",
       "      <th>count</th>\n",
       "      <td>1258.000000</td>\n",
       "      <td>1258.000000</td>\n",
       "      <td>1258.000000</td>\n",
       "      <td>1258.000000</td>\n",
       "      <td>1.258000e+03</td>\n",
       "      <td>1258.000000</td>\n",
       "      <td>1258.000000</td>\n",
       "      <td>1258.000000</td>\n",
       "      <td>1258.000000</td>\n",
       "      <td>1.258000e+03</td>\n",
       "      <td>1258.000000</td>\n",
       "      <td>1258.0</td>\n",
       "    </tr>\n",
       "    <tr>\n",
       "      <th>mean</th>\n",
       "      <td>167.723998</td>\n",
       "      <td>169.230475</td>\n",
       "      <td>166.039780</td>\n",
       "      <td>167.548266</td>\n",
       "      <td>3.500397e+07</td>\n",
       "      <td>162.666715</td>\n",
       "      <td>164.131054</td>\n",
       "      <td>161.028013</td>\n",
       "      <td>162.493082</td>\n",
       "      <td>3.500397e+07</td>\n",
       "      <td>0.010477</td>\n",
       "      <td>1.0</td>\n",
       "    </tr>\n",
       "    <tr>\n",
       "      <th>std</th>\n",
       "      <td>56.850796</td>\n",
       "      <td>57.500128</td>\n",
       "      <td>56.006773</td>\n",
       "      <td>56.612707</td>\n",
       "      <td>1.729100e+07</td>\n",
       "      <td>58.733820</td>\n",
       "      <td>59.402842</td>\n",
       "      <td>57.869246</td>\n",
       "      <td>58.494560</td>\n",
       "      <td>1.729100e+07</td>\n",
       "      <td>0.083366</td>\n",
       "      <td>0.0</td>\n",
       "    </tr>\n",
       "    <tr>\n",
       "      <th>min</th>\n",
       "      <td>90.340000</td>\n",
       "      <td>91.670000</td>\n",
       "      <td>89.470000</td>\n",
       "      <td>90.000000</td>\n",
       "      <td>1.136204e+07</td>\n",
       "      <td>84.954351</td>\n",
       "      <td>86.205062</td>\n",
       "      <td>84.136216</td>\n",
       "      <td>84.634620</td>\n",
       "      <td>1.136204e+07</td>\n",
       "      <td>0.000000</td>\n",
       "      <td>1.0</td>\n",
       "    </tr>\n",
       "    <tr>\n",
       "      <th>25%</th>\n",
       "      <td>116.327500</td>\n",
       "      <td>117.405000</td>\n",
       "      <td>115.602500</td>\n",
       "      <td>116.482500</td>\n",
       "      <td>2.359205e+07</td>\n",
       "      <td>109.484490</td>\n",
       "      <td>110.393556</td>\n",
       "      <td>107.962457</td>\n",
       "      <td>109.135002</td>\n",
       "      <td>2.359205e+07</td>\n",
       "      <td>0.000000</td>\n",
       "      <td>1.0</td>\n",
       "    </tr>\n",
       "    <tr>\n",
       "      <th>50%</th>\n",
       "      <td>160.485000</td>\n",
       "      <td>162.080000</td>\n",
       "      <td>158.974250</td>\n",
       "      <td>160.345000</td>\n",
       "      <td>3.064771e+07</td>\n",
       "      <td>154.710645</td>\n",
       "      <td>156.091874</td>\n",
       "      <td>153.054341</td>\n",
       "      <td>154.410017</td>\n",
       "      <td>3.064771e+07</td>\n",
       "      <td>0.000000</td>\n",
       "      <td>1.0</td>\n",
       "    </tr>\n",
       "    <tr>\n",
       "      <th>75%</th>\n",
       "      <td>199.785000</td>\n",
       "      <td>201.277500</td>\n",
       "      <td>198.170000</td>\n",
       "      <td>199.520000</td>\n",
       "      <td>4.100487e+07</td>\n",
       "      <td>196.960053</td>\n",
       "      <td>198.428438</td>\n",
       "      <td>195.281553</td>\n",
       "      <td>196.452903</td>\n",
       "      <td>4.100487e+07</td>\n",
       "      <td>0.000000</td>\n",
       "      <td>1.0</td>\n",
       "    </tr>\n",
       "    <tr>\n",
       "      <th>max</th>\n",
       "      <td>327.200000</td>\n",
       "      <td>327.850000</td>\n",
       "      <td>323.350000</td>\n",
       "      <td>324.730000</td>\n",
       "      <td>1.622063e+08</td>\n",
       "      <td>326.337147</td>\n",
       "      <td>326.357095</td>\n",
       "      <td>322.497300</td>\n",
       "      <td>323.873661</td>\n",
       "      <td>1.622063e+08</td>\n",
       "      <td>0.820000</td>\n",
       "      <td>1.0</td>\n",
       "    </tr>\n",
       "  </tbody>\n",
       "</table>\n",
       "</div>"
      ],
      "text/plain": [
       "             close         high          low         open        volume  \\\n",
       "count  1258.000000  1258.000000  1258.000000  1258.000000  1.258000e+03   \n",
       "mean    167.723998   169.230475   166.039780   167.548266  3.500397e+07   \n",
       "std      56.850796    57.500128    56.006773    56.612707  1.729100e+07   \n",
       "min      90.340000    91.670000    89.470000    90.000000  1.136204e+07   \n",
       "25%     116.327500   117.405000   115.602500   116.482500  2.359205e+07   \n",
       "50%     160.485000   162.080000   158.974250   160.345000  3.064771e+07   \n",
       "75%     199.785000   201.277500   198.170000   199.520000  4.100487e+07   \n",
       "max     327.200000   327.850000   323.350000   324.730000  1.622063e+08   \n",
       "\n",
       "          adjClose      adjHigh       adjLow      adjOpen     adjVolume  \\\n",
       "count  1258.000000  1258.000000  1258.000000  1258.000000  1.258000e+03   \n",
       "mean    162.666715   164.131054   161.028013   162.493082  3.500397e+07   \n",
       "std      58.733820    59.402842    57.869246    58.494560  1.729100e+07   \n",
       "min      84.954351    86.205062    84.136216    84.634620  1.136204e+07   \n",
       "25%     109.484490   110.393556   107.962457   109.135002  2.359205e+07   \n",
       "50%     154.710645   156.091874   153.054341   154.410017  3.064771e+07   \n",
       "75%     196.960053   198.428438   195.281553   196.452903  4.100487e+07   \n",
       "max     326.337147   326.357095   322.497300   323.873661  1.622063e+08   \n",
       "\n",
       "           divCash  splitFactor  \n",
       "count  1258.000000       1258.0  \n",
       "mean      0.010477          1.0  \n",
       "std       0.083366          0.0  \n",
       "min       0.000000          1.0  \n",
       "25%       0.000000          1.0  \n",
       "50%       0.000000          1.0  \n",
       "75%       0.000000          1.0  \n",
       "max       0.820000          1.0  "
      ]
     },
     "execution_count": 55,
     "metadata": {},
     "output_type": "execute_result"
    }
   ],
   "source": [
    "df.describe()"
   ]
  },
  {
   "cell_type": "code",
   "execution_count": 56,
   "metadata": {},
   "outputs": [
    {
     "data": {
      "text/html": [
       "<div>\n",
       "<style scoped>\n",
       "    .dataframe tbody tr th:only-of-type {\n",
       "        vertical-align: middle;\n",
       "    }\n",
       "\n",
       "    .dataframe tbody tr th {\n",
       "        vertical-align: top;\n",
       "    }\n",
       "\n",
       "    .dataframe thead th {\n",
       "        text-align: right;\n",
       "    }\n",
       "</style>\n",
       "<table border=\"1\" class=\"dataframe\">\n",
       "  <thead>\n",
       "    <tr style=\"text-align: right;\">\n",
       "      <th></th>\n",
       "      <th>date</th>\n",
       "      <th>close</th>\n",
       "      <th>high</th>\n",
       "      <th>low</th>\n",
       "      <th>open</th>\n",
       "      <th>volume</th>\n",
       "      <th>adjClose</th>\n",
       "      <th>adjHigh</th>\n",
       "      <th>adjLow</th>\n",
       "      <th>adjOpen</th>\n",
       "      <th>adjVolume</th>\n",
       "      <th>divCash</th>\n",
       "      <th>splitFactor</th>\n",
       "    </tr>\n",
       "  </thead>\n",
       "  <tbody>\n",
       "    <tr>\n",
       "      <th>0</th>\n",
       "      <td>2015-05-27 00:00:00+00:00</td>\n",
       "      <td>132.045</td>\n",
       "      <td>132.260</td>\n",
       "      <td>130.05</td>\n",
       "      <td>130.34</td>\n",
       "      <td>45833246</td>\n",
       "      <td>121.682558</td>\n",
       "      <td>121.880685</td>\n",
       "      <td>119.844118</td>\n",
       "      <td>120.111360</td>\n",
       "      <td>45833246</td>\n",
       "      <td>0.0</td>\n",
       "      <td>1.0</td>\n",
       "    </tr>\n",
       "    <tr>\n",
       "      <th>1</th>\n",
       "      <td>2015-05-28 00:00:00+00:00</td>\n",
       "      <td>131.780</td>\n",
       "      <td>131.950</td>\n",
       "      <td>131.10</td>\n",
       "      <td>131.86</td>\n",
       "      <td>30733309</td>\n",
       "      <td>121.438354</td>\n",
       "      <td>121.595013</td>\n",
       "      <td>120.811718</td>\n",
       "      <td>121.512076</td>\n",
       "      <td>30733309</td>\n",
       "      <td>0.0</td>\n",
       "      <td>1.0</td>\n",
       "    </tr>\n",
       "    <tr>\n",
       "      <th>2</th>\n",
       "      <td>2015-05-29 00:00:00+00:00</td>\n",
       "      <td>130.280</td>\n",
       "      <td>131.450</td>\n",
       "      <td>129.90</td>\n",
       "      <td>131.23</td>\n",
       "      <td>50884452</td>\n",
       "      <td>120.056069</td>\n",
       "      <td>121.134251</td>\n",
       "      <td>119.705890</td>\n",
       "      <td>120.931516</td>\n",
       "      <td>50884452</td>\n",
       "      <td>0.0</td>\n",
       "      <td>1.0</td>\n",
       "    </tr>\n",
       "    <tr>\n",
       "      <th>3</th>\n",
       "      <td>2015-06-01 00:00:00+00:00</td>\n",
       "      <td>130.535</td>\n",
       "      <td>131.390</td>\n",
       "      <td>130.05</td>\n",
       "      <td>131.20</td>\n",
       "      <td>32112797</td>\n",
       "      <td>120.291057</td>\n",
       "      <td>121.078960</td>\n",
       "      <td>119.844118</td>\n",
       "      <td>120.903870</td>\n",
       "      <td>32112797</td>\n",
       "      <td>0.0</td>\n",
       "      <td>1.0</td>\n",
       "    </tr>\n",
       "    <tr>\n",
       "      <th>4</th>\n",
       "      <td>2015-06-02 00:00:00+00:00</td>\n",
       "      <td>129.960</td>\n",
       "      <td>130.655</td>\n",
       "      <td>129.32</td>\n",
       "      <td>129.86</td>\n",
       "      <td>33667627</td>\n",
       "      <td>119.761181</td>\n",
       "      <td>120.401640</td>\n",
       "      <td>119.171406</td>\n",
       "      <td>119.669029</td>\n",
       "      <td>33667627</td>\n",
       "      <td>0.0</td>\n",
       "      <td>1.0</td>\n",
       "    </tr>\n",
       "  </tbody>\n",
       "</table>\n",
       "</div>"
      ],
      "text/plain": [
       "                        date    close     high     low    open    volume  \\\n",
       "0  2015-05-27 00:00:00+00:00  132.045  132.260  130.05  130.34  45833246   \n",
       "1  2015-05-28 00:00:00+00:00  131.780  131.950  131.10  131.86  30733309   \n",
       "2  2015-05-29 00:00:00+00:00  130.280  131.450  129.90  131.23  50884452   \n",
       "3  2015-06-01 00:00:00+00:00  130.535  131.390  130.05  131.20  32112797   \n",
       "4  2015-06-02 00:00:00+00:00  129.960  130.655  129.32  129.86  33667627   \n",
       "\n",
       "     adjClose     adjHigh      adjLow     adjOpen  adjVolume  divCash  \\\n",
       "0  121.682558  121.880685  119.844118  120.111360   45833246      0.0   \n",
       "1  121.438354  121.595013  120.811718  121.512076   30733309      0.0   \n",
       "2  120.056069  121.134251  119.705890  120.931516   50884452      0.0   \n",
       "3  120.291057  121.078960  119.844118  120.903870   32112797      0.0   \n",
       "4  119.761181  120.401640  119.171406  119.669029   33667627      0.0   \n",
       "\n",
       "   splitFactor  \n",
       "0          1.0  \n",
       "1          1.0  \n",
       "2          1.0  \n",
       "3          1.0  \n",
       "4          1.0  "
      ]
     },
     "execution_count": 56,
     "metadata": {},
     "output_type": "execute_result"
    }
   ],
   "source": [
    "df.head()"
   ]
  },
  {
   "cell_type": "code",
   "execution_count": 57,
   "metadata": {},
   "outputs": [
    {
     "data": {
      "text/plain": [
       "0    132.045\n",
       "1    131.780\n",
       "2    130.280\n",
       "3    130.535\n",
       "4    129.960\n",
       "Name: close, dtype: float64"
      ]
     },
     "execution_count": 57,
     "metadata": {},
     "output_type": "execute_result"
    }
   ],
   "source": [
    "df1=df[\"close\"]\n",
    "df1.head()\n"
   ]
  },
  {
   "cell_type": "code",
   "execution_count": 58,
   "metadata": {},
   "outputs": [
    {
     "data": {
      "text/plain": [
       "(1258,)"
      ]
     },
     "execution_count": 58,
     "metadata": {},
     "output_type": "execute_result"
    }
   ],
   "source": [
    "df1.shape"
   ]
  },
  {
   "cell_type": "code",
   "execution_count": 62,
   "metadata": {},
   "outputs": [
    {
     "data": {
      "text/plain": [
       "[<matplotlib.lines.Line2D at 0x2477f977ca0>]"
      ]
     },
     "execution_count": 62,
     "metadata": {},
     "output_type": "execute_result"
    },
    {
     "data": {
      "image/png": "[encoded data removed]",
      "text/plain": [
       "<Figure size 1152x504 with 1 Axes>"
      ]
     },
     "metadata": {},
     "output_type": "display_data"
    }
   ],
   "source": [
    "plt.figure(figsize=(16,7))\n",
    "plt.plot(df1)"
   ]
  },
  {
   "cell_type": "markdown",
   "metadata": {},
   "source": [
    "Ranging the df1 value from 0-1"
   ]
  },
  {
   "cell_type": "code",
   "execution_count": 65,
   "metadata": {},
   "outputs": [
    {
     "name": "stdout",
     "output_type": "stream",
     "text": [
      "[[0.17607447]\n",
      " [0.17495567]\n",
      " [0.16862282]\n",
      " ...\n",
      " [0.96635143]\n",
      " [0.9563033 ]\n",
      " [0.96491598]]\n"
     ]
    }
   ],
   "source": [
    "from sklearn.preprocessing import MinMaxScaler\n",
    "scaler=MinMaxScaler(feature_range=(0,1))\n",
    "df1=scaler.fit_transform(np.array(df1).reshape(-1,1))\n",
    "print(df1)"
   ]
  },
  {
   "cell_type": "code",
   "execution_count": 67,
   "metadata": {},
   "outputs": [
    {
     "data": {
      "text/plain": [
       "(1258, 1)"
      ]
     },
     "execution_count": 67,
     "metadata": {},
     "output_type": "execute_result"
    }
   ],
   "source": [
    "df1.shape"
   ]
  },
  {
   "cell_type": "markdown",
   "metadata": {},
   "source": [
    "splitting dataset into train and test split"
   ]
  },
  {
   "cell_type": "code",
   "execution_count": 70,
   "metadata": {},
   "outputs": [
    {
     "data": {
      "text/plain": [
       "(441, 1)"
      ]
     },
     "execution_count": 70,
     "metadata": {},
     "output_type": "execute_result"
    }
   ],
   "source": [
    "training_size=int(len(df1)*0.65)\n",
    "test_size=len(df1)-training_size\n",
    "train_data,test_data=df1[0:training_size,:],df1[training_size:len(df1),:]\n",
    "test_data.shape"
   ]
  },
  {
   "cell_type": "code",
   "execution_count": 69,
   "metadata": {},
   "outputs": [
    {
     "data": {
      "text/plain": [
       "(817, 1)"
      ]
     },
     "execution_count": 69,
     "metadata": {},
     "output_type": "execute_result"
    }
   ],
   "source": [
    "train_data.shape"
   ]
  },
  {
   "cell_type": "code",
   "execution_count": 71,
   "metadata": {},
   "outputs": [],
   "source": [
    "def create_dataset(dataset, time_step=1):\n",
    "\tdataX, dataY = [], []\n",
    "\tfor i in range(len(dataset)-time_step-1):\n",
    "\t\ta = dataset[i:(i+time_step), 0]   ###i=0, 0,1,2,3-----99   100 \n",
    "\t\tdataX.append(a)\n",
    "\t\tdataY.append(dataset[i + time_step, 0])\n",
    "\treturn np.array(dataX), np.array(dataY)"
   ]
  },
  {
   "cell_type": "code",
   "execution_count": 73,
   "metadata": {},
   "outputs": [
    {
     "name": "stdout",
     "output_type": "stream",
     "text": [
      "(716, 100)\n",
      "(716,)\n"
     ]
    },
    {
     "data": {
      "text/plain": [
       "(None, None)"
      ]
     },
     "execution_count": 73,
     "metadata": {},
     "output_type": "execute_result"
    }
   ],
   "source": [
    "time_step = 100\n",
    "X_train, y_train = create_dataset(train_data, time_step)\n",
    "X_test, ytest = create_dataset(test_data, time_step)\n",
    "\n",
    "print(X_train.shape), print(y_train.shape)"
   ]
  },
  {
   "cell_type": "code",
   "execution_count": 76,
   "metadata": {},
   "outputs": [
    {
     "name": "stdout",
     "output_type": "stream",
     "text": [
      "(340, 100)\n",
      "(340,)\n"
     ]
    },
    {
     "data": {
      "text/plain": [
       "(None, None)"
      ]
     },
     "execution_count": 76,
     "metadata": {},
     "output_type": "execute_result"
    }
   ],
   "source": [
    "print(X_test.shape), print(ytest.shape)"
   ]
  },
  {
   "cell_type": "code",
   "execution_count": 74,
   "metadata": {},
   "outputs": [
    {
     "name": "stdout",
     "output_type": "stream",
     "text": [
      "[[0.17607447 0.17495567 0.16862282 ... 0.09055982 0.08388922 0.09085536]\n",
      " [0.17495567 0.16862282 0.1696994  ... 0.08388922 0.09085536 0.0873934 ]\n",
      " [0.16862282 0.1696994  0.16727181 ... 0.09085536 0.0873934  0.09030651]\n",
      " ...\n",
      " [0.34801148 0.32930845 0.32145571 ... 0.50042219 0.50413747 0.5062062 ]\n",
      " [0.32930845 0.32145571 0.32694419 ... 0.50413747 0.5062062  0.51920966]\n",
      " [0.32145571 0.32694419 0.32230009 ... 0.5062062  0.51920966 0.53719497]]\n"
     ]
    }
   ],
   "source": [
    "print(X_train)"
   ]
  },
  {
   "cell_type": "code",
   "execution_count": 75,
   "metadata": {},
   "outputs": [
    {
     "name": "stdout",
     "output_type": "stream",
     "text": [
      "[0.0873934  0.09030651 0.09891919 0.09887697 0.10622309 0.1213375\n",
      " 0.10529427 0.10221228 0.12213966 0.12745926 0.1231107  0.1302035\n",
      " 0.13607194 0.13366546 0.1291058  0.12969687 0.12762813 0.1115849\n",
      " 0.10879845 0.1071519  0.09288187 0.10062906 0.09858144 0.11378029\n",
      " 0.12007093 0.12226632 0.11572237 0.12049312 0.1169045  0.11597568\n",
      " 0.11804441 0.11399139 0.10951617 0.10495651 0.1211264  0.11795998\n",
      " 0.11774888 0.10672971 0.10905176 0.09642827 0.09347294 0.08507135\n",
      " 0.08865997 0.07869628 0.06624166 0.07173014 0.07130795 0.07713417\n",
      " 0.07468547 0.06957697 0.07768302 0.07168792 0.0629908  0.06337077\n",
      " 0.05222494 0.04373892 0.02579583 0.027949   0.03457739 0.04061471\n",
      " 0.02976442 0.03875707 0.02866672 0.02668243 0.02723128 0.02516254\n",
      " 0.04677869 0.03841932 0.04074137 0.01300346 0.01583214 0.02955332\n",
      " 0.02571139 0.01747868 0.02537364 0.02642911 0.0155366  0.01971629\n",
      " 0.01963185 0.01659208 0.01418559 0.01540995 0.02659799 0.03284641\n",
      " 0.02499367 0.02406485 0.02761125 0.01836528 0.02431816 0.02710462\n",
      " 0.0277379  0.02680909 0.04302119 0.04395001 0.04711644 0.05349151\n",
      " 0.04867854 0.04513215 0.04551212 0.04572321 0.05032509 0.05142278\n",
      " 0.0601199  0.06598835 0.06527062 0.06577725 0.06573503 0.06915477\n",
      " 0.06666385 0.06472178 0.06269526 0.0732078  0.08114498 0.0787385\n",
      " 0.0829604  0.08773115 0.08220046 0.08705564 0.07683864 0.07734527\n",
      " 0.07886515 0.08486026 0.0916153  0.09186861 0.08236933 0.07236342\n",
      " 0.06995694 0.07088576 0.06598835 0.064764   0.06223085 0.05914886\n",
      " 0.03157984 0.01895635 0.01435447 0.01393228 0.02043401 0.01625433\n",
      " 0.01224352 0.01004813 0.01034366 0.01300346 0.00916153 0.\n",
      " 0.00075994 0.01494554 0.013299   0.01781643 0.01629655 0.02060289\n",
      " 0.02571139 0.03191759 0.03917926 0.04251457 0.04226125 0.04019252\n",
      " 0.03428185 0.03115765 0.03200203 0.03499958 0.03668834 0.03630837\n",
      " 0.03930592 0.03584396 0.02955332 0.03005995 0.02870894 0.03043992\n",
      " 0.0210673  0.02009626 0.023516   0.02199612 0.02431816 0.01291902\n",
      " 0.00717724 0.01372119 0.01714093 0.02220721 0.02343156 0.01963185\n",
      " 0.02191168 0.02364266 0.02676687 0.02803344 0.02989107 0.02756903\n",
      " 0.03567508 0.03563286 0.04006586 0.04023474 0.04061471 0.0383771\n",
      " 0.03512623 0.02955332 0.02672465 0.0532382  0.05910665 0.0585578\n",
      " 0.0663261  0.05969771 0.0652284  0.06556616 0.07236342 0.07612092\n",
      " 0.07797855 0.07455881 0.07426328 0.07531875 0.08080723 0.08038504\n",
      " 0.07970953 0.07911847 0.0803006  0.07671198 0.07814743 0.07468547\n",
      " 0.07274339 0.07008359 0.06957697 0.066115   0.06653719 0.06919699\n",
      " 0.0734189  0.07329224 0.0760787  0.06408849 0.05399814 0.06375074\n",
      " 0.07434772 0.09047539 0.10651862 0.10377438 0.09811703 0.09807481\n",
      " 0.09799037 0.10250781 0.09444398 0.0951617  0.0960483  0.09967914\n",
      " 0.09220637 0.09587942 0.09364181 0.09566833 0.09587942 0.09942582\n",
      " 0.10014354 0.10854513 0.10960061 0.11399139 0.1124715  0.11521574\n",
      " 0.11487799 0.11454023 0.11306257 0.11280925 0.11086718 0.11530018\n",
      " 0.11783332 0.10660306 0.10191674 0.0987081  0.09794816 0.08929325\n",
      " 0.08971544 0.08228489 0.07810521 0.0847336  0.08747784 0.08671789\n",
      " 0.07367221 0.07637423 0.06489065 0.07080132 0.0829604  0.08279152\n",
      " 0.08325593 0.09030651 0.09060204 0.08819556 0.09055982 0.08963101\n",
      " 0.0891666  0.08519801 0.08084945 0.08258043 0.07924512 0.08279152\n",
      " 0.08735118 0.09195305 0.09967914 0.0969349  0.1049143  0.1049143\n",
      " 0.10757409 0.10820738 0.11103606 0.11234485 0.11280925 0.10955839\n",
      " 0.11052943 0.11365364 0.11154268 0.11141603 0.10757409 0.10896732\n",
      " 0.10841848 0.1109094  0.11639787 0.12095753 0.12146416 0.12416617\n",
      " 0.12205522 0.12116862 0.12522165 0.12517943 0.12429283 0.12522165\n",
      " 0.1255594  0.12509499 0.13315883 0.13341214 0.13345436 0.13210335\n",
      " 0.13092122 0.1621633  0.16123448 0.16355653 0.16866503 0.17390019\n",
      " 0.17605336 0.17765769 0.17639112 0.18133074 0.18863464 0.19070337\n",
      " 0.19000676 0.19158997 0.19572743 0.19745841 0.19500971 0.19555856\n",
      " 0.19669847 0.19695179 0.20877311 0.20526894 0.2087309  0.20687326\n",
      " 0.2076332  0.20543781 0.2040868  0.20602888 0.20628219 0.20539559\n",
      " 0.21160179 0.21257283 0.2096175  0.21582369 0.20898421 0.21565482\n",
      " 0.21354387 0.21236173 0.21337499 0.22570295 0.22705396 0.22625179\n",
      " 0.22511188 0.22528076 0.22979819 0.22663177 0.22511188 0.22376087\n",
      " 0.22304315 0.21654142 0.21725914 0.21409271 0.2173858  0.214726\n",
      " 0.21253061 0.21996116 0.21924343 0.22502744 0.22878494 0.22519632\n",
      " 0.22566073 0.22506966 0.23743984 0.24136621 0.23946635 0.23722874\n",
      " 0.24748797 0.26458668 0.26872414 0.26564215 0.26855526 0.27763236\n",
      " 0.2759436  0.27497256 0.25293422 0.26260238 0.26479777 0.26872414\n",
      " 0.26792198 0.2659799  0.26821751 0.26711982 0.26737313 0.2635312\n",
      " 0.2653044  0.27488812 0.26847083 0.27066622 0.27455037 0.27294604\n",
      " 0.24757241 0.23254243 0.23748206 0.23144474 0.22777168 0.21924343\n",
      " 0.23642658 0.23081145 0.23444229 0.23342903 0.23617327 0.23423119\n",
      " 0.22540741 0.23427341 0.22519632 0.22663177 0.22443638 0.2269273\n",
      " 0.22118551 0.22730727 0.23102254 0.23300684 0.23389344 0.2424639\n",
      " 0.24782572 0.25002111 0.2522165  0.25618509 0.25331419 0.25301866\n",
      " 0.26070252 0.26344676 0.26648653 0.25424301 0.2497678  0.24651693\n",
      " 0.25208984 0.28202314 0.27539475 0.27885671 0.28907371 0.29443553\n",
      " 0.298573   0.27433927 0.28345858 0.29346449 0.30085282 0.29810859\n",
      " 0.28506291 0.28354302 0.28231867 0.29316896 0.29401334 0.29101579\n",
      " 0.29350671 0.30030398 0.30638352 0.30824116 0.31098539 0.31119649\n",
      " 0.30287934 0.30216161 0.29941738 0.28831377 0.30043063 0.29772862\n",
      " 0.29262011 0.28683611 0.29359115 0.28848265 0.28873596 0.2775057\n",
      " 0.266191   0.25985814 0.25420079 0.26513552 0.2697374  0.26572659\n",
      " 0.26927299 0.2679642  0.27079287 0.26657097 0.27463481 0.27425483\n",
      " 0.27653466 0.27678798 0.27953221 0.27721017 0.28138985 0.29359115\n",
      " 0.29608207 0.29308452 0.27712573 0.27826564 0.27792789 0.28185426\n",
      " 0.27894115 0.28316305 0.30697458 0.32246897 0.33226378 0.32318669\n",
      " 0.32833741 0.34687157 0.3542599  0.35662417 0.36266149 0.3611416\n",
      " 0.3560331  0.35307777 0.34197416 0.33243266 0.34096091 0.3369501\n",
      " 0.33623237 0.34957359 0.35725745 0.35729967 0.3535844  0.34927805\n",
      " 0.33412142 0.34412733 0.34074981 0.33547243 0.33479693 0.33213713\n",
      " 0.33344592 0.33365701 0.34758929 0.34349405 0.34590053 0.34568944\n",
      " 0.35307777 0.36342143 0.35548425 0.35468209 0.35746855 0.35746855\n",
      " 0.3387233  0.33884995 0.34087647 0.33306595 0.34585831 0.34573166\n",
      " 0.34910918 0.35742633 0.35468209 0.35459765 0.35442878 0.35860846\n",
      " 0.36625011 0.36245039 0.37473613 0.37541164 0.37203411 0.36587013\n",
      " 0.36603901 0.35413324 0.34100312 0.34269189 0.32770413 0.32352444\n",
      " 0.32546652 0.32694419 0.29620873 0.2792789  0.30689015 0.2921557\n",
      " 0.27362155 0.27894115 0.30553914 0.31242084 0.32521321 0.3489403\n",
      " 0.34657604 0.34412733 0.34083425 0.34687157 0.35953728 0.37418728\n",
      " 0.37173858 0.37059867 0.35742633 0.36253483 0.36511019 0.36447691\n",
      " 0.35755298 0.36561682 0.37845141 0.38579752 0.37840919 0.37194967\n",
      " 0.37283627 0.37017648 0.3586929  0.35843958 0.34167863 0.33146162\n",
      " 0.31495398 0.34801148 0.32930845 0.32145571 0.32694419 0.32230009\n",
      " 0.32951955 0.34311408 0.34813814 0.32947733 0.33652791 0.350038\n",
      " 0.34661826 0.35379549 0.35628641 0.36088829 0.37110529 0.36941653\n",
      " 0.34813814 0.31824707 0.31622055 0.30651017 0.30950773 0.31191421\n",
      " 0.30389259 0.31630499 0.3325171  0.36405472 0.36540572 0.39470573\n",
      " 0.40032086 0.40407836 0.40960905 0.42092375 0.41480199 0.41294436\n",
      " 0.4057249  0.41307101 0.40804695 0.40517605 0.41074897 0.40876467\n",
      " 0.41383095 0.41294436 0.41475977 0.41188888 0.41020012 0.40754032\n",
      " 0.42176813 0.42848096 0.43472938 0.43755805 0.43536266 0.42793211\n",
      " 0.42594782 0.43038082 0.42371021 0.4241324  0.41585747 0.41543528\n",
      " 0.40255847 0.40597821 0.40158744 0.39930761 0.38769737 0.39723888\n",
      " 0.39609896 0.40175631 0.40010977 0.40884911 0.3950857  0.40133412\n",
      " 0.41218441 0.42320358 0.42223254 0.41180444 0.42510344 0.42637001\n",
      " 0.42459681 0.42687664 0.42244364 0.42869205 0.42683442 0.42755214\n",
      " 0.43342059 0.44110445 0.43852909 0.42489234 0.42037491 0.42197923\n",
      " 0.46930676 0.49417377 0.49670692 0.50126657 0.49299164 0.49358271\n",
      " 0.50046441 0.49476484 0.50042219 0.50413747 0.5062062  0.51920966\n",
      " 0.53719497 0.52824453]\n"
     ]
    }
   ],
   "source": [
    "print(y_train)"
   ]
  },
  {
   "cell_type": "code",
   "execution_count": 77,
   "metadata": {},
   "outputs": [
    {
     "name": "stdout",
     "output_type": "stream",
     "text": [
      "(716, 100, 1)\n",
      "(340, 100, 1)\n"
     ]
    },
    {
     "data": {
      "text/plain": [
       "(None, None)"
      ]
     },
     "execution_count": 77,
     "metadata": {},
     "output_type": "execute_result"
    }
   ],
   "source": [
    "X_train =X_train.reshape(X_train.shape[0],X_train.shape[1] , 1)\n",
    "X_test = X_test.reshape(X_test.shape[0],X_test.shape[1] , 1)\n",
    "print(X_train.shape), print(X_test.shape)"
   ]
  },
  {
   "cell_type": "markdown",
   "metadata": {},
   "source": [
    "Create the Stacked LSTM model"
   ]
  },
  {
   "cell_type": "code",
   "execution_count": 78,
   "metadata": {},
   "outputs": [],
   "source": [
    "from tensorflow.keras.models import Sequential\n",
    "from tensorflow.keras.layers import Dense\n",
    "from tensorflow.keras.layers import LSTM\n",
    "\n",
    "\n",
    "model=Sequential()\n",
    "model.add(LSTM(50,return_sequences=True,input_shape=(100,1)))\n",
    "model.add(LSTM(50,return_sequences=True))\n",
    "model.add(LSTM(50))\n",
    "model.add(Dense(1))\n",
    "\n",
    "model.compile(loss='mean_squared_error',optimizer='adam')"
   ]
  },
  {
   "cell_type": "code",
   "execution_count": 79,
   "metadata": {},
   "outputs": [
    {
     "name": "stdout",
     "output_type": "stream",
     "text": [
      "Model: \"sequential\"\n",
      "_________________________________________________________________\n",
      " Layer (type)                Output Shape              Param #   \n",
      "=================================================================\n",
      " lstm (LSTM)                 (None, 100, 50)           10400     \n",
      "                                                                 \n",
      " lstm_1 (LSTM)               (None, 100, 50)           20200     \n",
      "                                                                 \n",
      " lstm_2 (LSTM)               (None, 50)                20200     \n",
      "                                                                 \n",
      " dense (Dense)               (None, 1)                 51        \n",
      "                                                                 \n",
      "=================================================================\n",
      "Total params: 50,851\n",
      "Trainable params: 50,851\n",
      "Non-trainable params: 0\n",
      "_________________________________________________________________\n"
     ]
    }
   ],
   "source": [
    "model.summary()"
   ]
  },
  {
   "cell_type": "code",
   "execution_count": 80,
   "metadata": {},
   "outputs": [
    {
     "name": "stdout",
     "output_type": "stream",
     "text": [
      "Epoch 1/100\n",
      "12/12 [==============================] - 21s 292ms/step - loss: 0.0155 - val_loss: 0.0706\n",
      "Epoch 2/100\n",
      "12/12 [==============================] - 1s 68ms/step - loss: 0.0036 - val_loss: 0.0045\n",
      "Epoch 3/100\n",
      "12/12 [==============================] - 1s 72ms/step - loss: 9.7112e-04 - val_loss: 0.0072\n",
      "Epoch 4/100\n",
      "12/12 [==============================] - 1s 68ms/step - loss: 8.9111e-04 - val_loss: 0.0038\n",
      "Epoch 5/100\n",
      "12/12 [==============================] - 1s 69ms/step - loss: 7.7071e-04 - val_loss: 0.0050\n",
      "Epoch 6/100\n",
      "12/12 [==============================] - 1s 68ms/step - loss: 7.1728e-04 - val_loss: 0.0041\n",
      "Epoch 7/100\n",
      "12/12 [==============================] - 1s 69ms/step - loss: 6.0254e-04 - val_loss: 0.0046\n",
      "Epoch 8/100\n",
      "12/12 [==============================] - 1s 70ms/step - loss: 6.1378e-04 - val_loss: 0.0043\n",
      "Epoch 9/100\n",
      "12/12 [==============================] - 1s 67ms/step - loss: 5.8983e-04 - val_loss: 0.0052\n",
      "Epoch 10/100\n",
      "12/12 [==============================] - 1s 70ms/step - loss: 6.1396e-04 - val_loss: 0.0037\n",
      "Epoch 11/100\n",
      "12/12 [==============================] - 1s 71ms/step - loss: 5.7298e-04 - val_loss: 0.0037\n",
      "Epoch 12/100\n",
      "12/12 [==============================] - 1s 71ms/step - loss: 5.9119e-04 - val_loss: 0.0033\n",
      "Epoch 13/100\n",
      "12/12 [==============================] - 1s 81ms/step - loss: 5.7231e-04 - val_loss: 0.0033\n",
      "Epoch 14/100\n",
      "12/12 [==============================] - 1s 69ms/step - loss: 5.5825e-04 - val_loss: 0.0032\n",
      "Epoch 15/100\n",
      "12/12 [==============================] - 1s 70ms/step - loss: 5.5784e-04 - val_loss: 0.0032\n",
      "Epoch 16/100\n",
      "12/12 [==============================] - 1s 68ms/step - loss: 5.9841e-04 - val_loss: 0.0030\n",
      "Epoch 17/100\n",
      "12/12 [==============================] - 1s 70ms/step - loss: 5.2773e-04 - val_loss: 0.0029\n",
      "Epoch 18/100\n",
      "12/12 [==============================] - 1s 72ms/step - loss: 5.1376e-04 - val_loss: 0.0028\n",
      "Epoch 19/100\n",
      "12/12 [==============================] - 1s 67ms/step - loss: 5.1068e-04 - val_loss: 0.0028\n",
      "Epoch 20/100\n",
      "12/12 [==============================] - 1s 68ms/step - loss: 4.9642e-04 - val_loss: 0.0028\n",
      "Epoch 21/100\n",
      "12/12 [==============================] - 1s 68ms/step - loss: 4.8498e-04 - val_loss: 0.0026\n",
      "Epoch 22/100\n",
      "12/12 [==============================] - 1s 67ms/step - loss: 4.7794e-04 - val_loss: 0.0025\n",
      "Epoch 23/100\n",
      "12/12 [==============================] - 1s 70ms/step - loss: 4.8673e-04 - val_loss: 0.0024\n",
      "Epoch 24/100\n",
      "12/12 [==============================] - 1s 71ms/step - loss: 4.6076e-04 - val_loss: 0.0023\n",
      "Epoch 25/100\n",
      "12/12 [==============================] - 1s 65ms/step - loss: 4.6210e-04 - val_loss: 0.0022\n",
      "Epoch 26/100\n",
      "12/12 [==============================] - 1s 70ms/step - loss: 4.6858e-04 - val_loss: 0.0024\n",
      "Epoch 27/100\n",
      "12/12 [==============================] - 1s 73ms/step - loss: 4.4271e-04 - val_loss: 0.0023\n",
      "Epoch 28/100\n",
      "12/12 [==============================] - 1s 69ms/step - loss: 4.5490e-04 - val_loss: 0.0023\n",
      "Epoch 29/100\n",
      "12/12 [==============================] - 1s 66ms/step - loss: 4.4706e-04 - val_loss: 0.0021\n",
      "Epoch 30/100\n",
      "12/12 [==============================] - 1s 64ms/step - loss: 4.5390e-04 - val_loss: 0.0020\n",
      "Epoch 31/100\n",
      "12/12 [==============================] - 1s 65ms/step - loss: 4.2948e-04 - val_loss: 0.0019\n",
      "Epoch 32/100\n",
      "12/12 [==============================] - 1s 69ms/step - loss: 4.1313e-04 - val_loss: 0.0026\n",
      "Epoch 33/100\n",
      "12/12 [==============================] - 1s 73ms/step - loss: 4.8288e-04 - val_loss: 0.0020\n",
      "Epoch 34/100\n",
      "12/12 [==============================] - 1s 72ms/step - loss: 4.5014e-04 - val_loss: 0.0017\n",
      "Epoch 35/100\n",
      "12/12 [==============================] - 1s 69ms/step - loss: 4.0602e-04 - val_loss: 0.0017\n",
      "Epoch 36/100\n",
      "12/12 [==============================] - 1s 68ms/step - loss: 3.9817e-04 - val_loss: 0.0019\n",
      "Epoch 37/100\n",
      "12/12 [==============================] - 1s 70ms/step - loss: 4.1333e-04 - val_loss: 0.0022\n",
      "Epoch 38/100\n",
      "12/12 [==============================] - 1s 67ms/step - loss: 3.9335e-04 - val_loss: 0.0016\n",
      "Epoch 39/100\n",
      "12/12 [==============================] - 1s 64ms/step - loss: 3.8956e-04 - val_loss: 0.0015\n",
      "Epoch 40/100\n",
      "12/12 [==============================] - 1s 63ms/step - loss: 3.6905e-04 - val_loss: 0.0016\n",
      "Epoch 41/100\n",
      "12/12 [==============================] - 1s 68ms/step - loss: 3.7009e-04 - val_loss: 0.0015\n",
      "Epoch 42/100\n",
      "12/12 [==============================] - 1s 66ms/step - loss: 3.6716e-04 - val_loss: 0.0015\n",
      "Epoch 43/100\n",
      "12/12 [==============================] - 1s 64ms/step - loss: 3.5568e-04 - val_loss: 0.0016\n",
      "Epoch 44/100\n",
      "12/12 [==============================] - 1s 60ms/step - loss: 3.8149e-04 - val_loss: 0.0022\n",
      "Epoch 45/100\n",
      "12/12 [==============================] - 1s 70ms/step - loss: 3.6127e-04 - val_loss: 0.0014\n",
      "Epoch 46/100\n",
      "12/12 [==============================] - 1s 66ms/step - loss: 3.3928e-04 - val_loss: 0.0014\n",
      "Epoch 47/100\n",
      "12/12 [==============================] - 1s 67ms/step - loss: 3.4445e-04 - val_loss: 0.0014\n",
      "Epoch 48/100\n",
      "12/12 [==============================] - 1s 68ms/step - loss: 3.3936e-04 - val_loss: 0.0017\n",
      "Epoch 49/100\n",
      "12/12 [==============================] - 1s 69ms/step - loss: 3.6989e-04 - val_loss: 0.0017\n",
      "Epoch 50/100\n",
      "12/12 [==============================] - 1s 74ms/step - loss: 4.1937e-04 - val_loss: 0.0036\n",
      "Epoch 51/100\n",
      "12/12 [==============================] - 1s 69ms/step - loss: 3.7501e-04 - val_loss: 0.0013\n",
      "Epoch 52/100\n",
      "12/12 [==============================] - 1s 70ms/step - loss: 3.9387e-04 - val_loss: 0.0014\n",
      "Epoch 53/100\n",
      "12/12 [==============================] - 1s 66ms/step - loss: 3.8700e-04 - val_loss: 0.0029\n",
      "Epoch 54/100\n",
      "12/12 [==============================] - 1s 72ms/step - loss: 3.7555e-04 - val_loss: 0.0014\n",
      "Epoch 55/100\n",
      "12/12 [==============================] - 1s 71ms/step - loss: 3.4835e-04 - val_loss: 0.0033\n",
      "Epoch 56/100\n",
      "12/12 [==============================] - 1s 73ms/step - loss: 3.3059e-04 - val_loss: 0.0013\n",
      "Epoch 57/100\n",
      "12/12 [==============================] - 1s 68ms/step - loss: 2.9453e-04 - val_loss: 0.0016\n",
      "Epoch 58/100\n",
      "12/12 [==============================] - 1s 67ms/step - loss: 2.9029e-04 - val_loss: 0.0015\n",
      "Epoch 59/100\n",
      "12/12 [==============================] - 1s 73ms/step - loss: 2.9950e-04 - val_loss: 0.0013\n",
      "Epoch 60/100\n",
      "12/12 [==============================] - 1s 66ms/step - loss: 3.2500e-04 - val_loss: 0.0015\n",
      "Epoch 61/100\n",
      "12/12 [==============================] - 1s 70ms/step - loss: 3.4584e-04 - val_loss: 0.0020\n",
      "Epoch 62/100\n",
      "12/12 [==============================] - 1s 66ms/step - loss: 3.2777e-04 - val_loss: 0.0014\n",
      "Epoch 63/100\n",
      "12/12 [==============================] - 1s 68ms/step - loss: 3.0652e-04 - val_loss: 0.0023\n",
      "Epoch 64/100\n",
      "12/12 [==============================] - 1s 74ms/step - loss: 2.9683e-04 - val_loss: 0.0014\n",
      "Epoch 65/100\n",
      "12/12 [==============================] - 1s 74ms/step - loss: 2.6344e-04 - val_loss: 0.0015\n",
      "Epoch 66/100\n",
      "12/12 [==============================] - 1s 70ms/step - loss: 2.6497e-04 - val_loss: 0.0015\n",
      "Epoch 67/100\n",
      "12/12 [==============================] - 1s 68ms/step - loss: 2.6087e-04 - val_loss: 0.0019\n",
      "Epoch 68/100\n",
      "12/12 [==============================] - 1s 65ms/step - loss: 2.8346e-04 - val_loss: 0.0012\n",
      "Epoch 69/100\n",
      "12/12 [==============================] - 1s 69ms/step - loss: 2.6444e-04 - val_loss: 0.0012\n",
      "Epoch 70/100\n",
      "12/12 [==============================] - 1s 68ms/step - loss: 2.4896e-04 - val_loss: 0.0012\n",
      "Epoch 71/100\n",
      "12/12 [==============================] - 1s 73ms/step - loss: 2.3840e-04 - val_loss: 0.0012\n",
      "Epoch 72/100\n",
      "12/12 [==============================] - 1s 70ms/step - loss: 2.3760e-04 - val_loss: 0.0014\n",
      "Epoch 73/100\n",
      "12/12 [==============================] - 1s 68ms/step - loss: 2.5275e-04 - val_loss: 0.0013\n",
      "Epoch 74/100\n",
      "12/12 [==============================] - 1s 66ms/step - loss: 2.6865e-04 - val_loss: 0.0017\n",
      "Epoch 75/100\n",
      "12/12 [==============================] - 1s 66ms/step - loss: 2.5686e-04 - val_loss: 0.0011\n",
      "Epoch 76/100\n",
      "12/12 [==============================] - 1s 73ms/step - loss: 2.4246e-04 - val_loss: 0.0011\n",
      "Epoch 77/100\n",
      "12/12 [==============================] - 1s 74ms/step - loss: 2.2069e-04 - val_loss: 0.0012\n",
      "Epoch 78/100\n",
      "12/12 [==============================] - 1s 71ms/step - loss: 2.1895e-04 - val_loss: 0.0011\n",
      "Epoch 79/100\n",
      "12/12 [==============================] - 1s 75ms/step - loss: 2.1644e-04 - val_loss: 0.0011\n",
      "Epoch 80/100\n",
      "12/12 [==============================] - 1s 70ms/step - loss: 2.1961e-04 - val_loss: 0.0015\n",
      "Epoch 81/100\n",
      "12/12 [==============================] - 1s 71ms/step - loss: 2.3994e-04 - val_loss: 0.0011\n",
      "Epoch 82/100\n",
      "12/12 [==============================] - 1s 65ms/step - loss: 2.2644e-04 - val_loss: 0.0011\n",
      "Epoch 83/100\n",
      "12/12 [==============================] - 1s 70ms/step - loss: 2.0368e-04 - val_loss: 0.0011\n",
      "Epoch 84/100\n",
      "12/12 [==============================] - 1s 67ms/step - loss: 1.9851e-04 - val_loss: 0.0012\n",
      "Epoch 85/100\n",
      "12/12 [==============================] - 1s 70ms/step - loss: 1.9762e-04 - val_loss: 0.0010\n",
      "Epoch 86/100\n",
      "12/12 [==============================] - 1s 66ms/step - loss: 2.0750e-04 - val_loss: 0.0013\n",
      "Epoch 87/100\n",
      "12/12 [==============================] - 1s 70ms/step - loss: 2.0154e-04 - val_loss: 0.0010\n",
      "Epoch 88/100\n",
      "12/12 [==============================] - 1s 68ms/step - loss: 1.8307e-04 - val_loss: 0.0010\n",
      "Epoch 89/100\n",
      "12/12 [==============================] - 1s 69ms/step - loss: 1.8682e-04 - val_loss: 0.0013\n",
      "Epoch 90/100\n",
      "12/12 [==============================] - 1s 72ms/step - loss: 2.0341e-04 - val_loss: 9.9429e-04\n",
      "Epoch 91/100\n",
      "12/12 [==============================] - 1s 69ms/step - loss: 2.0931e-04 - val_loss: 0.0014\n",
      "Epoch 92/100\n",
      "12/12 [==============================] - 1s 69ms/step - loss: 2.1993e-04 - val_loss: 0.0013\n",
      "Epoch 93/100\n",
      "12/12 [==============================] - 1s 68ms/step - loss: 1.8600e-04 - val_loss: 0.0013\n",
      "Epoch 94/100\n",
      "12/12 [==============================] - 1s 76ms/step - loss: 2.2048e-04 - val_loss: 0.0010\n",
      "Epoch 95/100\n",
      "12/12 [==============================] - 1s 72ms/step - loss: 2.0575e-04 - val_loss: 9.4737e-04\n",
      "Epoch 96/100\n",
      "12/12 [==============================] - 1s 70ms/step - loss: 1.8366e-04 - val_loss: 9.2651e-04\n",
      "Epoch 97/100\n",
      "12/12 [==============================] - 1s 77ms/step - loss: 1.7045e-04 - val_loss: 9.9401e-04\n",
      "Epoch 98/100\n",
      "12/12 [==============================] - 1s 69ms/step - loss: 1.8081e-04 - val_loss: 0.0011\n",
      "Epoch 99/100\n",
      "12/12 [==============================] - 1s 70ms/step - loss: 1.9905e-04 - val_loss: 8.8762e-04\n",
      "Epoch 100/100\n",
      "12/12 [==============================] - 1s 67ms/step - loss: 1.7773e-04 - val_loss: 0.0011\n"
     ]
    },
    {
     "data": {
      "text/plain": [
       "<keras.callbacks.History at 0x2479d9b8820>"
      ]
     },
     "execution_count": 80,
     "metadata": {},
     "output_type": "execute_result"
    }
   ],
   "source": [
    "model.fit(X_train,y_train,validation_data=(X_test,ytest),epochs=100,batch_size=64,verbose=1)"
   ]
  },
  {
   "cell_type": "code",
   "execution_count": 81,
   "metadata": {},
   "outputs": [
    {
     "data": {
      "text/plain": [
       "0.012762755757007282"
      ]
     },
     "execution_count": 81,
     "metadata": {},
     "output_type": "execute_result"
    }
   ],
   "source": [
    "### Lets Do the prediction and check performance metrics\n",
    "train_predict=model.predict(X_train)\n",
    "test_predict=model.predict(X_test)\n",
    "##Transformback to original form\n",
    "train_predict=scaler.inverse_transform(train_predict)\n",
    "test_predict=scaler.inverse_transform(test_predict)\n",
    "### Calculate RMSE performance metrics\n",
    "import math\n",
    "from sklearn.metrics import mean_squared_error\n",
    "math.sqrt(mean_squared_error(y_train,train_predict))"
   ]
  },
  {
   "cell_type": "code",
   "execution_count": 82,
   "metadata": {},
   "outputs": [
    {
     "data": {
      "text/plain": [
       "0.033374170150267175"
      ]
     },
     "execution_count": 82,
     "metadata": {},
     "output_type": "execute_result"
    }
   ],
   "source": [
    "### Test Data RMSE\n",
    "math.sqrt(mean_squared_error(ytest,test_predict))"
   ]
  },
  {
   "cell_type": "code",
   "execution_count": 88,
   "metadata": {},
   "outputs": [
    {
     "data": {
      "image/png": "[encoded data removed]",
      "text/plain": [
       "<Figure size 1152x504 with 1 Axes>"
      ]
     },
     "metadata": {},
     "output_type": "display_data"
    }
   ],
   "source": [
    "### Plotting \n",
    "# shift train predictions for plotting\n",
    "look_back=100\n",
    "trainPredictPlot = np.empty_like(df1)\n",
    "trainPredictPlot[:, :] = np.nan\n",
    "trainPredictPlot[look_back:len(train_predict)+look_back, :] = train_predict\n",
    "# shift test predictions for plotting\n",
    "testPredictPlot = np.empty_like(df1)\n",
    "testPredictPlot[:, :] = np.nan\n",
    "testPredictPlot[len(train_predict)+(look_back*2)+1:len(df1)-1, :] = test_predict\n",
    "# plot baseline and predictions\n",
    "plt.figure(figsize=(16,7))\n",
    "plt.plot(scaler.inverse_transform(df1),label='Actual graph')\n",
    "plt.plot(trainPredictPlot,label='Train prediction accuracy')\n",
    "plt.plot(testPredictPlot,label='Test prediction accuracy')\n",
    "plt.legend()\n",
    "plt.show()"
   ]
  },
  {
   "cell_type": "markdown",
   "metadata": {},
   "source": [
    "Prediction for next 30 days"
   ]
  },
  {
   "cell_type": "code",
   "execution_count": 89,
   "metadata": {},
   "outputs": [
    {
     "data": {
      "text/plain": [
       "441"
      ]
     },
     "execution_count": 89,
     "metadata": {},
     "output_type": "execute_result"
    }
   ],
   "source": [
    "len(test_data)"
   ]
  },
  {
   "cell_type": "code",
   "execution_count": 90,
   "metadata": {},
   "outputs": [
    {
     "data": {
      "text/plain": [
       "(1, 100)"
      ]
     },
     "execution_count": 90,
     "metadata": {},
     "output_type": "execute_result"
    }
   ],
   "source": [
    "x_input=test_data[341:].reshape(1,-1)\n",
    "x_input.shape"
   ]
  },
  {
   "cell_type": "code",
   "execution_count": 93,
   "metadata": {},
   "outputs": [
    {
     "data": {
      "text/plain": [
       "[array([0.85835515, 0.8866419 , 0.87431394, 0.88431985, 0.87836697,\n",
       "        0.8986321 , 0.92582116, 0.92877649, 0.95676771, 0.93869797,\n",
       "        0.93304061, 0.94950604, 0.96424048, 0.95512117, 0.95989192,\n",
       "        0.96635143, 0.96246728, 0.92295027, 0.9598497 , 0.98792536,\n",
       "        0.98594106, 0.92531453, 0.92172591, 0.96474711, 0.97572406,\n",
       "        0.99159841, 0.96972895, 0.97614625, 0.96795575, 1.        ,\n",
       "        0.99016297, 0.99050072, 0.96538039, 0.98488559, 0.97086887,\n",
       "        0.94026007, 0.87748037, 0.83483915, 0.85413324, 0.77336823,\n",
       "        0.77269273, 0.88014017, 0.84007431, 0.89673225, 0.85527316,\n",
       "        0.83884995, 0.74233725, 0.82327113, 0.78143207, 0.6665963 ,\n",
       "        0.7921557 , 0.64118044, 0.68614371, 0.66001013, 0.65203074,\n",
       "        0.58642236, 0.56586169, 0.66089673, 0.65515494, 0.70970193,\n",
       "        0.66452757, 0.69437642, 0.69218104, 0.63569197, 0.65266402,\n",
       "        0.63780292, 0.7267162 , 0.71388162, 0.74191506, 0.75002111,\n",
       "        0.77222832, 0.83049059, 0.8194292 , 0.8289707 , 0.8125475 ,\n",
       "        0.78776492, 0.75162543, 0.78426074, 0.77974331, 0.81326522,\n",
       "        0.8141096 , 0.79473106, 0.83336148, 0.85898843, 0.83901883,\n",
       "        0.85628641, 0.87486279, 0.88782403, 0.90095415, 0.92793211,\n",
       "        0.948535  , 0.93333615, 0.91746179, 0.92544119, 0.91771511,\n",
       "        0.9483239 , 0.94064004, 0.96635143, 0.9563033 , 0.96491598])]"
      ]
     },
     "execution_count": 93,
     "metadata": {},
     "output_type": "execute_result"
    }
   ],
   "source": [
    "temp_input=list(x_input)\n",
    "temp_input"
   ]
  },
  {
   "cell_type": "code",
   "execution_count": 92,
   "metadata": {},
   "outputs": [
    {
     "data": {
      "text/plain": [
       "[0.8583551465000421,\n",
       " 0.886641898167694,\n",
       " 0.8743139407244787,\n",
       " 0.8843198513890063,\n",
       " 0.8783669678290973,\n",
       " 0.8986321033521911,\n",
       " 0.9258211601790087,\n",
       " 0.928776492442793,\n",
       " 0.9567677108840664,\n",
       " 0.9386979650426412,\n",
       " 0.9330406147091108,\n",
       " 0.9495060373216246,\n",
       " 0.9642404796082074,\n",
       " 0.9551211686228152,\n",
       " 0.9598919192772102,\n",
       " 0.9663514312251964,\n",
       " 0.9624672802499366,\n",
       " 0.9229502659799036,\n",
       " 0.9598497002448703,\n",
       " 0.987925356750823,\n",
       " 0.9859410622308538,\n",
       " 0.9253145317909313,\n",
       " 0.9217259140420502,\n",
       " 0.9647471079962848,\n",
       " 0.9757240564046272,\n",
       " 0.991598412564384,\n",
       " 0.9697289538123786,\n",
       " 0.9761462467280251,\n",
       " 0.967955754454108,\n",
       " 1.0,\n",
       " 0.9901629654648316,\n",
       " 0.9905007177235496,\n",
       " 0.9653803934813814,\n",
       " 0.9848855864223591,\n",
       " 0.9708688676855526,\n",
       " 0.9402600692392131,\n",
       " 0.8774803681499619,\n",
       " 0.8348391454867854,\n",
       " 0.8541332432660642,\n",
       " 0.7733682344000674,\n",
       " 0.7726927298826312,\n",
       " 0.8801401671873681,\n",
       " 0.840074305496918,\n",
       " 0.896732246896901,\n",
       " 0.8552731571392385,\n",
       " 0.8388499535590643,\n",
       " 0.7423372456303302,\n",
       " 0.8232711306256859,\n",
       " 0.7814320695769652,\n",
       " 0.6665963016127671,\n",
       " 0.7921557037912692,\n",
       " 0.6411804441442203,\n",
       " 0.6861437135860847,\n",
       " 0.6600101325677615,\n",
       " 0.6520307354555434,\n",
       " 0.5864223591995271,\n",
       " 0.565861690450055,\n",
       " 0.6608967322468969,\n",
       " 0.6551549438486871,\n",
       " 0.7097019336316811,\n",
       " 0.6645275690281179,\n",
       " 0.6943764248923415,\n",
       " 0.6921810352106729,\n",
       " 0.6356919699400491,\n",
       " 0.6526640209406401,\n",
       " 0.6378029215570379,\n",
       " 0.7267162036646121,\n",
       " 0.7138816178333193,\n",
       " 0.7419150553069324,\n",
       " 0.75002110951617,\n",
       " 0.7722283205268934,\n",
       " 0.8304905851557882,\n",
       " 0.8194291986827662,\n",
       " 0.828970699991556,\n",
       " 0.8125474964113821,\n",
       " 0.7877649244279321,\n",
       " 0.7516254327450815,\n",
       " 0.7842607447437304,\n",
       " 0.779743308283374,\n",
       " 0.8132652199611585,\n",
       " 0.814109600607954,\n",
       " 0.7947310647639956,\n",
       " 0.8333614793548931,\n",
       " 0.8589884319851389,\n",
       " 0.8390188296884236,\n",
       " 0.8562864139153932,\n",
       " 0.8748627881448956,\n",
       " 0.8878240310732077,\n",
       " 0.9009541501308791,\n",
       " 0.9279321117959975,\n",
       " 0.9485349995778096,\n",
       " 0.9333361479354894,\n",
       " 0.9174617917757324,\n",
       " 0.9254411888879508,\n",
       " 0.917715105969771,\n",
       " 0.9483239044161107,\n",
       " 0.9406400405302708,\n",
       " 0.9663514312251964,\n",
       " 0.9563033015283291,\n",
       " 0.9649159841256438]"
      ]
     },
     "execution_count": 92,
     "metadata": {},
     "output_type": "execute_result"
    }
   ],
   "source": [
    "temp_input=temp_input[0].tolist()\n",
    "temp_input"
   ]
  },
  {
   "cell_type": "code",
   "execution_count": 98,
   "metadata": {},
   "outputs": [
    {
     "name": "stdout",
     "output_type": "stream",
     "text": [
      "[0.9905763]\n",
      "93\n",
      "[0.9905763]\n",
      "94\n",
      "[0.9905763]\n",
      "95\n",
      "[0.9905763]\n",
      "96\n",
      "[0.9905763]\n",
      "97\n",
      "[0.9905763]\n",
      "98\n",
      "[0.9905763]\n",
      "99\n",
      "[0.9905763]\n",
      "100\n",
      "[0.9905763]\n",
      "101\n",
      "9 day input [0.99057633 0.99057633 0.99057633 0.99057633 0.99057633 0.99057633\n",
      " 0.99057633 0.99057633 0.99057633 0.99057633 0.99057633 0.99057633\n",
      " 0.99057633 0.99057633 0.99057633 0.99057633 0.99057633 0.99057633\n",
      " 0.99057633 0.99057633 0.99057633 0.99057633 0.99057633 0.99057633\n",
      " 0.99057633 0.99057633 0.99057633 0.99057633 0.99057633 0.99057633\n",
      " 0.99057633 0.99057633 0.99057633 0.99057633 0.99057633 0.99057633\n",
      " 0.99057633 0.99057633 0.99057633 0.99057633 0.99057633 0.99057633\n",
      " 0.99057633 0.99057633 0.99057633 0.99057633 0.99057633 0.99057633\n",
      " 0.99057633 0.99057633 0.99057633 0.99057633 0.99057633 0.99057633\n",
      " 0.99057633 0.99057633 0.99057633 0.99057633 0.99057633 0.99057633\n",
      " 0.99057633 0.99057633 0.99057633 0.99057633 0.99057633 0.99057633\n",
      " 0.99057633 0.99057633 0.99057633 0.99057633 0.99057633 0.99057633\n",
      " 0.99057633 0.99057633 0.99057633 0.99057633 0.99057633 0.99057633\n",
      " 0.99057633 0.99057633 0.99057633 0.99057633 0.99057633 0.99057633\n",
      " 0.99057633 0.99057633 0.99057633 0.99057633 0.99057633 0.99057633\n",
      " 0.99057633 0.99057633 0.99057633 0.99057633 0.99057633 0.99057633\n",
      " 0.99057633 0.99057633 0.99057633 0.99057633]\n",
      "9 day output [[1.0296643]]\n",
      "10 day input [0.99057633 0.99057633 0.99057633 0.99057633 0.99057633 0.99057633\n",
      " 0.99057633 0.99057633 0.99057633 0.99057633 0.99057633 0.99057633\n",
      " 0.99057633 0.99057633 0.99057633 0.99057633 0.99057633 0.99057633\n",
      " 0.99057633 0.99057633 0.99057633 0.99057633 0.99057633 0.99057633\n",
      " 0.99057633 0.99057633 0.99057633 0.99057633 0.99057633 0.99057633\n",
      " 0.99057633 0.99057633 0.99057633 0.99057633 0.99057633 0.99057633\n",
      " 0.99057633 0.99057633 0.99057633 0.99057633 0.99057633 0.99057633\n",
      " 0.99057633 0.99057633 0.99057633 0.99057633 0.99057633 0.99057633\n",
      " 0.99057633 0.99057633 0.99057633 0.99057633 0.99057633 0.99057633\n",
      " 0.99057633 0.99057633 0.99057633 0.99057633 0.99057633 0.99057633\n",
      " 0.99057633 0.99057633 0.99057633 0.99057633 0.99057633 0.99057633\n",
      " 0.99057633 0.99057633 0.99057633 0.99057633 0.99057633 0.99057633\n",
      " 0.99057633 0.99057633 0.99057633 0.99057633 0.99057633 0.99057633\n",
      " 0.99057633 0.99057633 0.99057633 0.99057633 0.99057633 0.99057633\n",
      " 0.99057633 0.99057633 0.99057633 0.99057633 0.99057633 0.99057633\n",
      " 0.99057633 0.99057633 0.99057633 0.99057633 0.99057633 0.99057633\n",
      " 0.99057633 0.99057633 0.99057633 1.02966428]\n",
      "10 day output [[1.0406222]]\n",
      "11 day input [0.99057633 0.99057633 0.99057633 0.99057633 0.99057633 0.99057633\n",
      " 0.99057633 0.99057633 0.99057633 0.99057633 0.99057633 0.99057633\n",
      " 0.99057633 0.99057633 0.99057633 0.99057633 0.99057633 0.99057633\n",
      " 0.99057633 0.99057633 0.99057633 0.99057633 0.99057633 0.99057633\n",
      " 0.99057633 0.99057633 0.99057633 0.99057633 0.99057633 0.99057633\n",
      " 0.99057633 0.99057633 0.99057633 0.99057633 0.99057633 0.99057633\n",
      " 0.99057633 0.99057633 0.99057633 0.99057633 0.99057633 0.99057633\n",
      " 0.99057633 0.99057633 0.99057633 0.99057633 0.99057633 0.99057633\n",
      " 0.99057633 0.99057633 0.99057633 0.99057633 0.99057633 0.99057633\n",
      " 0.99057633 0.99057633 0.99057633 0.99057633 0.99057633 0.99057633\n",
      " 0.99057633 0.99057633 0.99057633 0.99057633 0.99057633 0.99057633\n",
      " 0.99057633 0.99057633 0.99057633 0.99057633 0.99057633 0.99057633\n",
      " 0.99057633 0.99057633 0.99057633 0.99057633 0.99057633 0.99057633\n",
      " 0.99057633 0.99057633 0.99057633 0.99057633 0.99057633 0.99057633\n",
      " 0.99057633 0.99057633 0.99057633 0.99057633 0.99057633 0.99057633\n",
      " 0.99057633 0.99057633 0.99057633 0.99057633 0.99057633 0.99057633\n",
      " 0.99057633 0.99057633 1.02966428 1.04062223]\n",
      "11 day output [[1.0591986]]\n",
      "12 day input [0.99057633 0.99057633 0.99057633 0.99057633 0.99057633 0.99057633\n",
      " 0.99057633 0.99057633 0.99057633 0.99057633 0.99057633 0.99057633\n",
      " 0.99057633 0.99057633 0.99057633 0.99057633 0.99057633 0.99057633\n",
      " 0.99057633 0.99057633 0.99057633 0.99057633 0.99057633 0.99057633\n",
      " 0.99057633 0.99057633 0.99057633 0.99057633 0.99057633 0.99057633\n",
      " 0.99057633 0.99057633 0.99057633 0.99057633 0.99057633 0.99057633\n",
      " 0.99057633 0.99057633 0.99057633 0.99057633 0.99057633 0.99057633\n",
      " 0.99057633 0.99057633 0.99057633 0.99057633 0.99057633 0.99057633\n",
      " 0.99057633 0.99057633 0.99057633 0.99057633 0.99057633 0.99057633\n",
      " 0.99057633 0.99057633 0.99057633 0.99057633 0.99057633 0.99057633\n",
      " 0.99057633 0.99057633 0.99057633 0.99057633 0.99057633 0.99057633\n",
      " 0.99057633 0.99057633 0.99057633 0.99057633 0.99057633 0.99057633\n",
      " 0.99057633 0.99057633 0.99057633 0.99057633 0.99057633 0.99057633\n",
      " 0.99057633 0.99057633 0.99057633 0.99057633 0.99057633 0.99057633\n",
      " 0.99057633 0.99057633 0.99057633 0.99057633 0.99057633 0.99057633\n",
      " 0.99057633 0.99057633 0.99057633 0.99057633 0.99057633 0.99057633\n",
      " 0.99057633 1.02966428 1.04062223 1.05919862]\n",
      "12 day output [[1.080713]]\n",
      "13 day input [0.99057633 0.99057633 0.99057633 0.99057633 0.99057633 0.99057633\n",
      " 0.99057633 0.99057633 0.99057633 0.99057633 0.99057633 0.99057633\n",
      " 0.99057633 0.99057633 0.99057633 0.99057633 0.99057633 0.99057633\n",
      " 0.99057633 0.99057633 0.99057633 0.99057633 0.99057633 0.99057633\n",
      " 0.99057633 0.99057633 0.99057633 0.99057633 0.99057633 0.99057633\n",
      " 0.99057633 0.99057633 0.99057633 0.99057633 0.99057633 0.99057633\n",
      " 0.99057633 0.99057633 0.99057633 0.99057633 0.99057633 0.99057633\n",
      " 0.99057633 0.99057633 0.99057633 0.99057633 0.99057633 0.99057633\n",
      " 0.99057633 0.99057633 0.99057633 0.99057633 0.99057633 0.99057633\n",
      " 0.99057633 0.99057633 0.99057633 0.99057633 0.99057633 0.99057633\n",
      " 0.99057633 0.99057633 0.99057633 0.99057633 0.99057633 0.99057633\n",
      " 0.99057633 0.99057633 0.99057633 0.99057633 0.99057633 0.99057633\n",
      " 0.99057633 0.99057633 0.99057633 0.99057633 0.99057633 0.99057633\n",
      " 0.99057633 0.99057633 0.99057633 0.99057633 0.99057633 0.99057633\n",
      " 0.99057633 0.99057633 0.99057633 0.99057633 0.99057633 0.99057633\n",
      " 0.99057633 0.99057633 0.99057633 0.99057633 0.99057633 0.99057633\n",
      " 1.02966428 1.04062223 1.05919862 1.08071303]\n",
      "13 day output [[1.1023977]]\n",
      "14 day input [0.99057633 0.99057633 0.99057633 0.99057633 0.99057633 0.99057633\n",
      " 0.99057633 0.99057633 0.99057633 0.99057633 0.99057633 0.99057633\n",
      " 0.99057633 0.99057633 0.99057633 0.99057633 0.99057633 0.99057633\n",
      " 0.99057633 0.99057633 0.99057633 0.99057633 0.99057633 0.99057633\n",
      " 0.99057633 0.99057633 0.99057633 0.99057633 0.99057633 0.99057633\n",
      " 0.99057633 0.99057633 0.99057633 0.99057633 0.99057633 0.99057633\n",
      " 0.99057633 0.99057633 0.99057633 0.99057633 0.99057633 0.99057633\n",
      " 0.99057633 0.99057633 0.99057633 0.99057633 0.99057633 0.99057633\n",
      " 0.99057633 0.99057633 0.99057633 0.99057633 0.99057633 0.99057633\n",
      " 0.99057633 0.99057633 0.99057633 0.99057633 0.99057633 0.99057633\n",
      " 0.99057633 0.99057633 0.99057633 0.99057633 0.99057633 0.99057633\n",
      " 0.99057633 0.99057633 0.99057633 0.99057633 0.99057633 0.99057633\n",
      " 0.99057633 0.99057633 0.99057633 0.99057633 0.99057633 0.99057633\n",
      " 0.99057633 0.99057633 0.99057633 0.99057633 0.99057633 0.99057633\n",
      " 0.99057633 0.99057633 0.99057633 0.99057633 0.99057633 0.99057633\n",
      " 0.99057633 0.99057633 0.99057633 0.99057633 0.99057633 1.02966428\n",
      " 1.04062223 1.05919862 1.08071303 1.10239768]\n",
      "14 day output [[1.1230857]]\n",
      "15 day input [0.99057633 0.99057633 0.99057633 0.99057633 0.99057633 0.99057633\n",
      " 0.99057633 0.99057633 0.99057633 0.99057633 0.99057633 0.99057633\n",
      " 0.99057633 0.99057633 0.99057633 0.99057633 0.99057633 0.99057633\n",
      " 0.99057633 0.99057633 0.99057633 0.99057633 0.99057633 0.99057633\n",
      " 0.99057633 0.99057633 0.99057633 0.99057633 0.99057633 0.99057633\n",
      " 0.99057633 0.99057633 0.99057633 0.99057633 0.99057633 0.99057633\n",
      " 0.99057633 0.99057633 0.99057633 0.99057633 0.99057633 0.99057633\n",
      " 0.99057633 0.99057633 0.99057633 0.99057633 0.99057633 0.99057633\n",
      " 0.99057633 0.99057633 0.99057633 0.99057633 0.99057633 0.99057633\n",
      " 0.99057633 0.99057633 0.99057633 0.99057633 0.99057633 0.99057633\n",
      " 0.99057633 0.99057633 0.99057633 0.99057633 0.99057633 0.99057633\n",
      " 0.99057633 0.99057633 0.99057633 0.99057633 0.99057633 0.99057633\n",
      " 0.99057633 0.99057633 0.99057633 0.99057633 0.99057633 0.99057633\n",
      " 0.99057633 0.99057633 0.99057633 0.99057633 0.99057633 0.99057633\n",
      " 0.99057633 0.99057633 0.99057633 0.99057633 0.99057633 0.99057633\n",
      " 0.99057633 0.99057633 0.99057633 0.99057633 1.02966428 1.04062223\n",
      " 1.05919862 1.08071303 1.10239768 1.12308574]\n",
      "15 day output [[1.1423519]]\n",
      "16 day input [0.99057633 0.99057633 0.99057633 0.99057633 0.99057633 0.99057633\n",
      " 0.99057633 0.99057633 0.99057633 0.99057633 0.99057633 0.99057633\n",
      " 0.99057633 0.99057633 0.99057633 0.99057633 0.99057633 0.99057633\n",
      " 0.99057633 0.99057633 0.99057633 0.99057633 0.99057633 0.99057633\n",
      " 0.99057633 0.99057633 0.99057633 0.99057633 0.99057633 0.99057633\n",
      " 0.99057633 0.99057633 0.99057633 0.99057633 0.99057633 0.99057633\n",
      " 0.99057633 0.99057633 0.99057633 0.99057633 0.99057633 0.99057633\n",
      " 0.99057633 0.99057633 0.99057633 0.99057633 0.99057633 0.99057633\n",
      " 0.99057633 0.99057633 0.99057633 0.99057633 0.99057633 0.99057633\n",
      " 0.99057633 0.99057633 0.99057633 0.99057633 0.99057633 0.99057633\n",
      " 0.99057633 0.99057633 0.99057633 0.99057633 0.99057633 0.99057633\n",
      " 0.99057633 0.99057633 0.99057633 0.99057633 0.99057633 0.99057633\n",
      " 0.99057633 0.99057633 0.99057633 0.99057633 0.99057633 0.99057633\n",
      " 0.99057633 0.99057633 0.99057633 0.99057633 0.99057633 0.99057633\n",
      " 0.99057633 0.99057633 0.99057633 0.99057633 0.99057633 0.99057633\n",
      " 0.99057633 0.99057633 0.99057633 1.02966428 1.04062223 1.05919862\n",
      " 1.08071303 1.10239768 1.12308574 1.14235187]\n",
      "16 day output [[1.1600502]]\n",
      "17 day input [0.99057633 0.99057633 0.99057633 0.99057633 0.99057633 0.99057633\n",
      " 0.99057633 0.99057633 0.99057633 0.99057633 0.99057633 0.99057633\n",
      " 0.99057633 0.99057633 0.99057633 0.99057633 0.99057633 0.99057633\n",
      " 0.99057633 0.99057633 0.99057633 0.99057633 0.99057633 0.99057633\n",
      " 0.99057633 0.99057633 0.99057633 0.99057633 0.99057633 0.99057633\n",
      " 0.99057633 0.99057633 0.99057633 0.99057633 0.99057633 0.99057633\n",
      " 0.99057633 0.99057633 0.99057633 0.99057633 0.99057633 0.99057633\n",
      " 0.99057633 0.99057633 0.99057633 0.99057633 0.99057633 0.99057633\n",
      " 0.99057633 0.99057633 0.99057633 0.99057633 0.99057633 0.99057633\n",
      " 0.99057633 0.99057633 0.99057633 0.99057633 0.99057633 0.99057633\n",
      " 0.99057633 0.99057633 0.99057633 0.99057633 0.99057633 0.99057633\n",
      " 0.99057633 0.99057633 0.99057633 0.99057633 0.99057633 0.99057633\n",
      " 0.99057633 0.99057633 0.99057633 0.99057633 0.99057633 0.99057633\n",
      " 0.99057633 0.99057633 0.99057633 0.99057633 0.99057633 0.99057633\n",
      " 0.99057633 0.99057633 0.99057633 0.99057633 0.99057633 0.99057633\n",
      " 0.99057633 0.99057633 1.02966428 1.04062223 1.05919862 1.08071303\n",
      " 1.10239768 1.12308574 1.14235187 1.16005015]\n",
      "17 day output [[1.1761928]]\n",
      "18 day input [0.99057633 0.99057633 0.99057633 0.99057633 0.99057633 0.99057633\n",
      " 0.99057633 0.99057633 0.99057633 0.99057633 0.99057633 0.99057633\n",
      " 0.99057633 0.99057633 0.99057633 0.99057633 0.99057633 0.99057633\n",
      " 0.99057633 0.99057633 0.99057633 0.99057633 0.99057633 0.99057633\n",
      " 0.99057633 0.99057633 0.99057633 0.99057633 0.99057633 0.99057633\n",
      " 0.99057633 0.99057633 0.99057633 0.99057633 0.99057633 0.99057633\n",
      " 0.99057633 0.99057633 0.99057633 0.99057633 0.99057633 0.99057633\n",
      " 0.99057633 0.99057633 0.99057633 0.99057633 0.99057633 0.99057633\n",
      " 0.99057633 0.99057633 0.99057633 0.99057633 0.99057633 0.99057633\n",
      " 0.99057633 0.99057633 0.99057633 0.99057633 0.99057633 0.99057633\n",
      " 0.99057633 0.99057633 0.99057633 0.99057633 0.99057633 0.99057633\n",
      " 0.99057633 0.99057633 0.99057633 0.99057633 0.99057633 0.99057633\n",
      " 0.99057633 0.99057633 0.99057633 0.99057633 0.99057633 0.99057633\n",
      " 0.99057633 0.99057633 0.99057633 0.99057633 0.99057633 0.99057633\n",
      " 0.99057633 0.99057633 0.99057633 0.99057633 0.99057633 0.99057633\n",
      " 0.99057633 1.02966428 1.04062223 1.05919862 1.08071303 1.10239768\n",
      " 1.12308574 1.14235187 1.16005015 1.17619276]\n",
      "18 day output [[1.190935]]\n",
      "19 day input [0.99057633 0.99057633 0.99057633 0.99057633 0.99057633 0.99057633\n",
      " 0.99057633 0.99057633 0.99057633 0.99057633 0.99057633 0.99057633\n",
      " 0.99057633 0.99057633 0.99057633 0.99057633 0.99057633 0.99057633\n",
      " 0.99057633 0.99057633 0.99057633 0.99057633 0.99057633 0.99057633\n",
      " 0.99057633 0.99057633 0.99057633 0.99057633 0.99057633 0.99057633\n",
      " 0.99057633 0.99057633 0.99057633 0.99057633 0.99057633 0.99057633\n",
      " 0.99057633 0.99057633 0.99057633 0.99057633 0.99057633 0.99057633\n",
      " 0.99057633 0.99057633 0.99057633 0.99057633 0.99057633 0.99057633\n",
      " 0.99057633 0.99057633 0.99057633 0.99057633 0.99057633 0.99057633\n",
      " 0.99057633 0.99057633 0.99057633 0.99057633 0.99057633 0.99057633\n",
      " 0.99057633 0.99057633 0.99057633 0.99057633 0.99057633 0.99057633\n",
      " 0.99057633 0.99057633 0.99057633 0.99057633 0.99057633 0.99057633\n",
      " 0.99057633 0.99057633 0.99057633 0.99057633 0.99057633 0.99057633\n",
      " 0.99057633 0.99057633 0.99057633 0.99057633 0.99057633 0.99057633\n",
      " 0.99057633 0.99057633 0.99057633 0.99057633 0.99057633 0.99057633\n",
      " 1.02966428 1.04062223 1.05919862 1.08071303 1.10239768 1.12308574\n",
      " 1.14235187 1.16005015 1.17619276 1.19093502]\n",
      "19 day output [[1.2045557]]\n",
      "20 day input [0.99057633 0.99057633 0.99057633 0.99057633 0.99057633 0.99057633\n",
      " 0.99057633 0.99057633 0.99057633 0.99057633 0.99057633 0.99057633\n",
      " 0.99057633 0.99057633 0.99057633 0.99057633 0.99057633 0.99057633\n",
      " 0.99057633 0.99057633 0.99057633 0.99057633 0.99057633 0.99057633\n",
      " 0.99057633 0.99057633 0.99057633 0.99057633 0.99057633 0.99057633\n",
      " 0.99057633 0.99057633 0.99057633 0.99057633 0.99057633 0.99057633\n",
      " 0.99057633 0.99057633 0.99057633 0.99057633 0.99057633 0.99057633\n",
      " 0.99057633 0.99057633 0.99057633 0.99057633 0.99057633 0.99057633\n",
      " 0.99057633 0.99057633 0.99057633 0.99057633 0.99057633 0.99057633\n",
      " 0.99057633 0.99057633 0.99057633 0.99057633 0.99057633 0.99057633\n",
      " 0.99057633 0.99057633 0.99057633 0.99057633 0.99057633 0.99057633\n",
      " 0.99057633 0.99057633 0.99057633 0.99057633 0.99057633 0.99057633\n",
      " 0.99057633 0.99057633 0.99057633 0.99057633 0.99057633 0.99057633\n",
      " 0.99057633 0.99057633 0.99057633 0.99057633 0.99057633 0.99057633\n",
      " 0.99057633 0.99057633 0.99057633 0.99057633 0.99057633 1.02966428\n",
      " 1.04062223 1.05919862 1.08071303 1.10239768 1.12308574 1.14235187\n",
      " 1.16005015 1.17619276 1.19093502 1.20455575]\n",
      "20 day output [[1.2174106]]\n",
      "21 day input [0.99057633 0.99057633 0.99057633 0.99057633 0.99057633 0.99057633\n",
      " 0.99057633 0.99057633 0.99057633 0.99057633 0.99057633 0.99057633\n",
      " 0.99057633 0.99057633 0.99057633 0.99057633 0.99057633 0.99057633\n",
      " 0.99057633 0.99057633 0.99057633 0.99057633 0.99057633 0.99057633\n",
      " 0.99057633 0.99057633 0.99057633 0.99057633 0.99057633 0.99057633\n",
      " 0.99057633 0.99057633 0.99057633 0.99057633 0.99057633 0.99057633\n",
      " 0.99057633 0.99057633 0.99057633 0.99057633 0.99057633 0.99057633\n",
      " 0.99057633 0.99057633 0.99057633 0.99057633 0.99057633 0.99057633\n",
      " 0.99057633 0.99057633 0.99057633 0.99057633 0.99057633 0.99057633\n",
      " 0.99057633 0.99057633 0.99057633 0.99057633 0.99057633 0.99057633\n",
      " 0.99057633 0.99057633 0.99057633 0.99057633 0.99057633 0.99057633\n",
      " 0.99057633 0.99057633 0.99057633 0.99057633 0.99057633 0.99057633\n",
      " 0.99057633 0.99057633 0.99057633 0.99057633 0.99057633 0.99057633\n",
      " 0.99057633 0.99057633 0.99057633 0.99057633 0.99057633 0.99057633\n",
      " 0.99057633 0.99057633 0.99057633 0.99057633 1.02966428 1.04062223\n",
      " 1.05919862 1.08071303 1.10239768 1.12308574 1.14235187 1.16005015\n",
      " 1.17619276 1.19093502 1.20455575 1.21741056]\n",
      "21 day output [[1.2298762]]\n",
      "22 day input [0.99057633 0.99057633 0.99057633 0.99057633 0.99057633 0.99057633\n",
      " 0.99057633 0.99057633 0.99057633 0.99057633 0.99057633 0.99057633\n",
      " 0.99057633 0.99057633 0.99057633 0.99057633 0.99057633 0.99057633\n",
      " 0.99057633 0.99057633 0.99057633 0.99057633 0.99057633 0.99057633\n",
      " 0.99057633 0.99057633 0.99057633 0.99057633 0.99057633 0.99057633\n",
      " 0.99057633 0.99057633 0.99057633 0.99057633 0.99057633 0.99057633\n",
      " 0.99057633 0.99057633 0.99057633 0.99057633 0.99057633 0.99057633\n",
      " 0.99057633 0.99057633 0.99057633 0.99057633 0.99057633 0.99057633\n",
      " 0.99057633 0.99057633 0.99057633 0.99057633 0.99057633 0.99057633\n",
      " 0.99057633 0.99057633 0.99057633 0.99057633 0.99057633 0.99057633\n",
      " 0.99057633 0.99057633 0.99057633 0.99057633 0.99057633 0.99057633\n",
      " 0.99057633 0.99057633 0.99057633 0.99057633 0.99057633 0.99057633\n",
      " 0.99057633 0.99057633 0.99057633 0.99057633 0.99057633 0.99057633\n",
      " 0.99057633 0.99057633 0.99057633 0.99057633 0.99057633 0.99057633\n",
      " 0.99057633 0.99057633 0.99057633 1.02966428 1.04062223 1.05919862\n",
      " 1.08071303 1.10239768 1.12308574 1.14235187 1.16005015 1.17619276\n",
      " 1.19093502 1.20455575 1.21741056 1.22987616]\n",
      "22 day output [[1.2422999]]\n",
      "23 day input [0.99057633 0.99057633 0.99057633 0.99057633 0.99057633 0.99057633\n",
      " 0.99057633 0.99057633 0.99057633 0.99057633 0.99057633 0.99057633\n",
      " 0.99057633 0.99057633 0.99057633 0.99057633 0.99057633 0.99057633\n",
      " 0.99057633 0.99057633 0.99057633 0.99057633 0.99057633 0.99057633\n",
      " 0.99057633 0.99057633 0.99057633 0.99057633 0.99057633 0.99057633\n",
      " 0.99057633 0.99057633 0.99057633 0.99057633 0.99057633 0.99057633\n",
      " 0.99057633 0.99057633 0.99057633 0.99057633 0.99057633 0.99057633\n",
      " 0.99057633 0.99057633 0.99057633 0.99057633 0.99057633 0.99057633\n",
      " 0.99057633 0.99057633 0.99057633 0.99057633 0.99057633 0.99057633\n",
      " 0.99057633 0.99057633 0.99057633 0.99057633 0.99057633 0.99057633\n",
      " 0.99057633 0.99057633 0.99057633 0.99057633 0.99057633 0.99057633\n",
      " 0.99057633 0.99057633 0.99057633 0.99057633 0.99057633 0.99057633\n",
      " 0.99057633 0.99057633 0.99057633 0.99057633 0.99057633 0.99057633\n",
      " 0.99057633 0.99057633 0.99057633 0.99057633 0.99057633 0.99057633\n",
      " 0.99057633 0.99057633 1.02966428 1.04062223 1.05919862 1.08071303\n",
      " 1.10239768 1.12308574 1.14235187 1.16005015 1.17619276 1.19093502\n",
      " 1.20455575 1.21741056 1.22987616 1.24229991]\n",
      "23 day output [[1.2549652]]\n",
      "24 day input [0.99057633 0.99057633 0.99057633 0.99057633 0.99057633 0.99057633\n",
      " 0.99057633 0.99057633 0.99057633 0.99057633 0.99057633 0.99057633\n",
      " 0.99057633 0.99057633 0.99057633 0.99057633 0.99057633 0.99057633\n",
      " 0.99057633 0.99057633 0.99057633 0.99057633 0.99057633 0.99057633\n",
      " 0.99057633 0.99057633 0.99057633 0.99057633 0.99057633 0.99057633\n",
      " 0.99057633 0.99057633 0.99057633 0.99057633 0.99057633 0.99057633\n",
      " 0.99057633 0.99057633 0.99057633 0.99057633 0.99057633 0.99057633\n",
      " 0.99057633 0.99057633 0.99057633 0.99057633 0.99057633 0.99057633\n",
      " 0.99057633 0.99057633 0.99057633 0.99057633 0.99057633 0.99057633\n",
      " 0.99057633 0.99057633 0.99057633 0.99057633 0.99057633 0.99057633\n",
      " 0.99057633 0.99057633 0.99057633 0.99057633 0.99057633 0.99057633\n",
      " 0.99057633 0.99057633 0.99057633 0.99057633 0.99057633 0.99057633\n",
      " 0.99057633 0.99057633 0.99057633 0.99057633 0.99057633 0.99057633\n",
      " 0.99057633 0.99057633 0.99057633 0.99057633 0.99057633 0.99057633\n",
      " 0.99057633 1.02966428 1.04062223 1.05919862 1.08071303 1.10239768\n",
      " 1.12308574 1.14235187 1.16005015 1.17619276 1.19093502 1.20455575\n",
      " 1.21741056 1.22987616 1.24229991 1.25496519]\n",
      "24 day output [[1.268069]]\n",
      "25 day input [0.99057633 0.99057633 0.99057633 0.99057633 0.99057633 0.99057633\n",
      " 0.99057633 0.99057633 0.99057633 0.99057633 0.99057633 0.99057633\n",
      " 0.99057633 0.99057633 0.99057633 0.99057633 0.99057633 0.99057633\n",
      " 0.99057633 0.99057633 0.99057633 0.99057633 0.99057633 0.99057633\n",
      " 0.99057633 0.99057633 0.99057633 0.99057633 0.99057633 0.99057633\n",
      " 0.99057633 0.99057633 0.99057633 0.99057633 0.99057633 0.99057633\n",
      " 0.99057633 0.99057633 0.99057633 0.99057633 0.99057633 0.99057633\n",
      " 0.99057633 0.99057633 0.99057633 0.99057633 0.99057633 0.99057633\n",
      " 0.99057633 0.99057633 0.99057633 0.99057633 0.99057633 0.99057633\n",
      " 0.99057633 0.99057633 0.99057633 0.99057633 0.99057633 0.99057633\n",
      " 0.99057633 0.99057633 0.99057633 0.99057633 0.99057633 0.99057633\n",
      " 0.99057633 0.99057633 0.99057633 0.99057633 0.99057633 0.99057633\n",
      " 0.99057633 0.99057633 0.99057633 0.99057633 0.99057633 0.99057633\n",
      " 0.99057633 0.99057633 0.99057633 0.99057633 0.99057633 0.99057633\n",
      " 1.02966428 1.04062223 1.05919862 1.08071303 1.10239768 1.12308574\n",
      " 1.14235187 1.16005015 1.17619276 1.19093502 1.20455575 1.21741056\n",
      " 1.22987616 1.24229991 1.25496519 1.26806903]\n",
      "25 day output [[1.2817178]]\n",
      "26 day input [0.99057633 0.99057633 0.99057633 0.99057633 0.99057633 0.99057633\n",
      " 0.99057633 0.99057633 0.99057633 0.99057633 0.99057633 0.99057633\n",
      " 0.99057633 0.99057633 0.99057633 0.99057633 0.99057633 0.99057633\n",
      " 0.99057633 0.99057633 0.99057633 0.99057633 0.99057633 0.99057633\n",
      " 0.99057633 0.99057633 0.99057633 0.99057633 0.99057633 0.99057633\n",
      " 0.99057633 0.99057633 0.99057633 0.99057633 0.99057633 0.99057633\n",
      " 0.99057633 0.99057633 0.99057633 0.99057633 0.99057633 0.99057633\n",
      " 0.99057633 0.99057633 0.99057633 0.99057633 0.99057633 0.99057633\n",
      " 0.99057633 0.99057633 0.99057633 0.99057633 0.99057633 0.99057633\n",
      " 0.99057633 0.99057633 0.99057633 0.99057633 0.99057633 0.99057633\n",
      " 0.99057633 0.99057633 0.99057633 0.99057633 0.99057633 0.99057633\n",
      " 0.99057633 0.99057633 0.99057633 0.99057633 0.99057633 0.99057633\n",
      " 0.99057633 0.99057633 0.99057633 0.99057633 0.99057633 0.99057633\n",
      " 0.99057633 0.99057633 0.99057633 0.99057633 0.99057633 1.02966428\n",
      " 1.04062223 1.05919862 1.08071303 1.10239768 1.12308574 1.14235187\n",
      " 1.16005015 1.17619276 1.19093502 1.20455575 1.21741056 1.22987616\n",
      " 1.24229991 1.25496519 1.26806903 1.28171778]\n",
      "26 day output [[1.2959317]]\n",
      "27 day input [0.99057633 0.99057633 0.99057633 0.99057633 0.99057633 0.99057633\n",
      " 0.99057633 0.99057633 0.99057633 0.99057633 0.99057633 0.99057633\n",
      " 0.99057633 0.99057633 0.99057633 0.99057633 0.99057633 0.99057633\n",
      " 0.99057633 0.99057633 0.99057633 0.99057633 0.99057633 0.99057633\n",
      " 0.99057633 0.99057633 0.99057633 0.99057633 0.99057633 0.99057633\n",
      " 0.99057633 0.99057633 0.99057633 0.99057633 0.99057633 0.99057633\n",
      " 0.99057633 0.99057633 0.99057633 0.99057633 0.99057633 0.99057633\n",
      " 0.99057633 0.99057633 0.99057633 0.99057633 0.99057633 0.99057633\n",
      " 0.99057633 0.99057633 0.99057633 0.99057633 0.99057633 0.99057633\n",
      " 0.99057633 0.99057633 0.99057633 0.99057633 0.99057633 0.99057633\n",
      " 0.99057633 0.99057633 0.99057633 0.99057633 0.99057633 0.99057633\n",
      " 0.99057633 0.99057633 0.99057633 0.99057633 0.99057633 0.99057633\n",
      " 0.99057633 0.99057633 0.99057633 0.99057633 0.99057633 0.99057633\n",
      " 0.99057633 0.99057633 0.99057633 0.99057633 1.02966428 1.04062223\n",
      " 1.05919862 1.08071303 1.10239768 1.12308574 1.14235187 1.16005015\n",
      " 1.17619276 1.19093502 1.20455575 1.21741056 1.22987616 1.24229991\n",
      " 1.25496519 1.26806903 1.28171778 1.2959317 ]\n",
      "27 day output [[1.3106627]]\n",
      "28 day input [0.99057633 0.99057633 0.99057633 0.99057633 0.99057633 0.99057633\n",
      " 0.99057633 0.99057633 0.99057633 0.99057633 0.99057633 0.99057633\n",
      " 0.99057633 0.99057633 0.99057633 0.99057633 0.99057633 0.99057633\n",
      " 0.99057633 0.99057633 0.99057633 0.99057633 0.99057633 0.99057633\n",
      " 0.99057633 0.99057633 0.99057633 0.99057633 0.99057633 0.99057633\n",
      " 0.99057633 0.99057633 0.99057633 0.99057633 0.99057633 0.99057633\n",
      " 0.99057633 0.99057633 0.99057633 0.99057633 0.99057633 0.99057633\n",
      " 0.99057633 0.99057633 0.99057633 0.99057633 0.99057633 0.99057633\n",
      " 0.99057633 0.99057633 0.99057633 0.99057633 0.99057633 0.99057633\n",
      " 0.99057633 0.99057633 0.99057633 0.99057633 0.99057633 0.99057633\n",
      " 0.99057633 0.99057633 0.99057633 0.99057633 0.99057633 0.99057633\n",
      " 0.99057633 0.99057633 0.99057633 0.99057633 0.99057633 0.99057633\n",
      " 0.99057633 0.99057633 0.99057633 0.99057633 0.99057633 0.99057633\n",
      " 0.99057633 0.99057633 0.99057633 1.02966428 1.04062223 1.05919862\n",
      " 1.08071303 1.10239768 1.12308574 1.14235187 1.16005015 1.17619276\n",
      " 1.19093502 1.20455575 1.21741056 1.22987616 1.24229991 1.25496519\n",
      " 1.26806903 1.28171778 1.2959317  1.31066275]\n",
      "28 day output [[1.3258128]]\n",
      "29 day input [0.99057633 0.99057633 0.99057633 0.99057633 0.99057633 0.99057633\n",
      " 0.99057633 0.99057633 0.99057633 0.99057633 0.99057633 0.99057633\n",
      " 0.99057633 0.99057633 0.99057633 0.99057633 0.99057633 0.99057633\n",
      " 0.99057633 0.99057633 0.99057633 0.99057633 0.99057633 0.99057633\n",
      " 0.99057633 0.99057633 0.99057633 0.99057633 0.99057633 0.99057633\n",
      " 0.99057633 0.99057633 0.99057633 0.99057633 0.99057633 0.99057633\n",
      " 0.99057633 0.99057633 0.99057633 0.99057633 0.99057633 0.99057633\n",
      " 0.99057633 0.99057633 0.99057633 0.99057633 0.99057633 0.99057633\n",
      " 0.99057633 0.99057633 0.99057633 0.99057633 0.99057633 0.99057633\n",
      " 0.99057633 0.99057633 0.99057633 0.99057633 0.99057633 0.99057633\n",
      " 0.99057633 0.99057633 0.99057633 0.99057633 0.99057633 0.99057633\n",
      " 0.99057633 0.99057633 0.99057633 0.99057633 0.99057633 0.99057633\n",
      " 0.99057633 0.99057633 0.99057633 0.99057633 0.99057633 0.99057633\n",
      " 0.99057633 0.99057633 1.02966428 1.04062223 1.05919862 1.08071303\n",
      " 1.10239768 1.12308574 1.14235187 1.16005015 1.17619276 1.19093502\n",
      " 1.20455575 1.21741056 1.22987616 1.24229991 1.25496519 1.26806903\n",
      " 1.28171778 1.2959317  1.31066275 1.32581282]\n",
      "29 day output [[1.3412561]]\n",
      "[[0.9905763268470764], [0.9905763268470764], [0.9905763268470764], [0.9905763268470764], [0.9905763268470764], [0.9905763268470764], [0.9905763268470764], [0.9905763268470764], [0.9905763268470764], [1.0296642780303955], [1.0406222343444824], [1.0591986179351807], [1.0807130336761475], [1.1023976802825928], [1.1230857372283936], [1.1423518657684326], [1.1600501537322998], [1.1761927604675293], [1.1909350156784058], [1.2045557498931885], [1.2174105644226074], [1.229876160621643], [1.2422999143600464], [1.2549651861190796], [1.2680690288543701], [1.2817177772521973], [1.2959316968917847], [1.3106627464294434], [1.325812816619873], [1.3412561416625977]]\n"
     ]
    }
   ],
   "source": [
    "# demonstrate prediction for next 10 days\n",
    "\n",
    "\n",
    "lst_output=[]\n",
    "n_steps=100\n",
    "i=0\n",
    "while(i<30):\n",
    "    \n",
    "    if(len(temp_input)>100):\n",
    "        #print(temp_input)\n",
    "        x_input=np.array(temp_input[1:])\n",
    "        print(\"{} day input {}\".format(i,x_input))\n",
    "        x_input=x_input.reshape(1,-1)\n",
    "        x_input = x_input.reshape((1, n_steps, 1))\n",
    "        #print(x_input)\n",
    "        yhat = model.predict(x_input, verbose=0)\n",
    "        print(\"{} day output {}\".format(i,yhat))\n",
    "        temp_input.extend(yhat[0].tolist())\n",
    "        temp_input=temp_input[1:]\n",
    "        #print(temp_input)\n",
    "        lst_output.extend(yhat.tolist())\n",
    "        i=i+1\n",
    "    else:\n",
    "        x_input = x_input.reshape((1, n_steps,1))\n",
    "        yhat = model.predict(x_input, verbose=0)\n",
    "        print(yhat[0])\n",
    "        temp_input.extend(yhat[0].tolist())\n",
    "        print(len(temp_input))\n",
    "        lst_output.extend(yhat.tolist())\n",
    "        i=i+1\n",
    "    \n",
    "\n",
    "print(lst_output)"
   ]
  },
  {
   "cell_type": "code",
   "execution_count": 103,
   "metadata": {},
   "outputs": [
    {
     "data": {
      "text/plain": [
       "((30,), (100,))"
      ]
     },
     "execution_count": 103,
     "metadata": {},
     "output_type": "execute_result"
    }
   ],
   "source": [
    "day_new=np.arange(1,101)\n",
    "day_pred=np.arange(101,131)\n",
    "day_pred.shape,day_new.shape"
   ]
  },
  {
   "cell_type": "code",
   "execution_count": 104,
   "metadata": {},
   "outputs": [
    {
     "data": {
      "text/plain": [
       "1258"
      ]
     },
     "execution_count": 104,
     "metadata": {},
     "output_type": "execute_result"
    }
   ],
   "source": [
    "len(df1)"
   ]
  },
  {
   "cell_type": "code",
   "execution_count": 109,
   "metadata": {},
   "outputs": [
    {
     "data": {
      "text/plain": [
       "<matplotlib.legend.Legend at 0x2487a287dc0>"
      ]
     },
     "execution_count": 109,
     "metadata": {},
     "output_type": "execute_result"
    },
    {
     "data": {
      "image/png": "[encoded data removed]",
      "text/plain": [
       "<Figure size 1152x504 with 1 Axes>"
      ]
     },
     "metadata": {},
     "output_type": "display_data"
    }
   ],
   "source": [
    "plt.figure(figsize=(16,7))\n",
    "plt.plot(day_new,scaler.inverse_transform(df1[1158:]),label='Actual graph')\n",
    "plt.plot(day_pred,scaler.inverse_transform(lst_output),label='Future 30 days prediction')\n",
    "plt.legend()"
   ]
  },
  {
   "cell_type": "code",
   "execution_count": 111,
   "metadata": {},
   "outputs": [
    {
     "data": {
      "text/plain": [
       "[<matplotlib.lines.Line2D at 0x248734980a0>]"
      ]
     },
     "execution_count": 111,
     "metadata": {},
     "output_type": "execute_result"
    },
    {
     "data": {
      "image/png": "[encoded data removed]",
      "text/plain": [
       "<Figure size 1152x504 with 1 Axes>"
      ]
     },
     "metadata": {},
     "output_type": "display_data"
    }
   ],
   "source": [
    "plt.figure(figsize=(16,7))\n",
    "df3=df1.tolist()\n",
    "df3.extend(lst_output)\n",
    "plt.plot(df3[1200:])"
   ]
  },
  {
   "cell_type": "code",
   "execution_count": 112,
   "metadata": {},
   "outputs": [
    {
     "data": {
      "text/plain": [
       "[<matplotlib.lines.Line2D at 0x24865b9feb0>]"
      ]
     },
     "execution_count": 112,
     "metadata": {},
     "output_type": "execute_result"
    },
    {
     "data": {
      "image/png": "[encoded data removed]",
      "text/plain": [
       "<Figure size 1152x504 with 1 Axes>"
      ]
     },
     "metadata": {},
     "output_type": "display_data"
    }
   ],
   "source": [
    "plt.figure(figsize=(16,7))\n",
    "df3=scaler.inverse_transform(df3).tolist()\n",
    "plt.plot(df3)"
   ]
  },
  {
   "cell_type": "code",
   "execution_count": null,
   "metadata": {},
   "outputs": [],
   "source": []
  }
 ],
 "metadata": {
  "interpreter": {
   "hash": "318f11b5d5929c1bb3530f7b0ec005ea5dc0b98ca838da92bfdb3650e5bc63c6"
  },
  "kernelspec": {
   "display_name": "Python 3.8.10 64-bit",
   "language": "python",
   "name": "python3"
  },
  "language_info": {
   "codemirror_mode": {
    "name": "ipython",
    "version": 3
   },
   "file_extension": ".py",
   "mimetype": "text/x-python",
   "name": "python",
   "nbconvert_exporter": "python",
   "pygments_lexer": "ipython3",
   "version": "3.8.10"
  },
  "orig_nbformat": 4
 },
 "nbformat": 4,
 "nbformat_minor": 2
}
